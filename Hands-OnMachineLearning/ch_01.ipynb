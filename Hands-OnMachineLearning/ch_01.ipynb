{
 "cells": [
  {
   "cell_type": "code",
   "execution_count": 165,
   "metadata": {},
   "outputs": [],
   "source": [
    "% matplotlib inline\n",
    "import matplotlib.pyplot as plt\n",
    "import numpy as np\n",
    "import pandas as pd\n",
    "from sklearn.linear_model import LinearRegression\n",
    "import os"
   ]
  },
  {
   "cell_type": "code",
   "execution_count": 90,
   "metadata": {},
   "outputs": [],
   "source": [
    "working_dir = os.path.join(os.getcwd())"
   ]
  },
  {
   "cell_type": "code",
   "execution_count": 111,
   "metadata": {},
   "outputs": [],
   "source": [
    "# Load the data\n",
    "data_dir = os.path.join( working_dir, \"datasets\", \"lifesat\" )\n",
    "oecd_bil_path = os.path.join( data_dir, \"oecd_bli_2015.csv\" )\n",
    "gdp_per_capita_path = os.path.join( data_dir, \"gdp_per_capita.csv\")\n",
    "\n",
    "oecd_bli = pd.read_csv( oecd_bil_path, thousands = ',' )\n",
    "\n",
    "gdp_per_capita = pd.read_csv( gdp_per_capita_path, thousands = ',', delimiter = '\\t',\n",
    "                            encoding = 'latin1', na_values = \"n/a\")"
   ]
  },
  {
   "cell_type": "code",
   "execution_count": 225,
   "metadata": {},
   "outputs": [],
   "source": [
    "# Prepare the data\n",
    "\n",
    "bli = oecd_bli[( oecd_bli.Indicator == 'Life satisfaction')][['Country', 'Value']]\n",
    "bli.columns = ['Country', 'Life satisfaction']\n",
    "bli.set_index('Country')\n",
    "\n",
    "gdp = gdp_per_capita[['Country', '2015']]\n",
    "gdp.columns = ['Country', 'GDP per capita']\n",
    "gdp.set_index('Country')\n",
    "\n",
    "country_stats = bli.merge( gdp, on = 'Country', how = 'inner' )"
   ]
  },
  {
   "cell_type": "code",
   "execution_count": 226,
   "metadata": {},
   "outputs": [],
   "source": [
    "X = np.c_[country_stats[\"GDP per capita\"]]\n",
    "y = np.c_[country_stats[\"Life satisfaction\"]]"
   ]
  },
  {
   "cell_type": "code",
   "execution_count": 227,
   "metadata": {},
   "outputs": [
    {
     "data": {
      "image/png": "[encoded data removed]",
      "text/plain": [
       "<matplotlib.figure.Figure at 0x1963bdeee48>"
      ]
     },
     "metadata": {},
     "output_type": "display_data"
    }
   ],
   "source": [
    "# Visualize the data\n",
    "country_stats.plot( kind = 'scatter', x = \"GDP per capita\", y = \"Life satisfaction\")\n",
    "plt.show()"
   ]
  },
  {
   "cell_type": "code",
   "execution_count": 228,
   "metadata": {},
   "outputs": [],
   "source": [
    "# Select a linear model\n",
    "model = LinearRegression().fit(X, y)"
   ]
  },
  {
   "cell_type": "code",
   "execution_count": 231,
   "metadata": {},
   "outputs": [
    {
     "name": "stdout",
     "output_type": "stream",
     "text": [
      "[[ 6.24439261]]\n"
     ]
    }
   ],
   "source": [
    "# Make a prediction for Cyprus\n",
    "X_new = [[22587]] # Cyprus' GDP per capita\n",
    "\n",
    "print(model.predict(X_new))"
   ]
  }
 ],
 "metadata": {
  "kernelspec": {
   "display_name": "Python 3",
   "language": "python",
   "name": "python3"
  },
  "language_info": {
   "codemirror_mode": {
    "name": "ipython",
    "version": 3
   },
   "file_extension": ".py",
   "mimetype": "text/x-python",
   "name": "python",
   "nbconvert_exporter": "python",
   "pygments_lexer": "ipython3",
   "version": "3.6.2"
  }
 },
 "nbformat": 4,
 "nbformat_minor": 2
}
