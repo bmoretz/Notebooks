{
  "nbformat": 4,
  "nbformat_minor": 0,
  "metadata": {
    "colab": {
      "name": "Untitled0.ipynb",
      "version": "0.3.2",
      "provenance": [],
      "include_colab_link": true
    },
    "kernelspec": {
      "name": "python3",
      "display_name": "Python 3"
    }
  },
  "cells": [
    {
      "cell_type": "markdown",
      "metadata": {
        "id": "view-in-github",
        "colab_type": "text"
      },
      "source": [
        "<a href=\"https://colab.research.google.com/github/bmoretz/Notebooks/blob/master/MNIST_3.ipynb\" target=\"_parent\"><img src=\"https://colab.research.google.com/assets/colab-badge.svg\" alt=\"Open In Colab\"/></a>"
      ]
    },
    {
      "metadata": {
        "id": "hwcwWKVfpPt_",
        "colab_type": "code",
        "colab": {}
      },
      "cell_type": "code",
      "source": [
        "import matplotlib.pyplot as plt\n",
        "import tensorflow as tf\n",
        "import numpy as np\n",
        "from sklearn.metrics import confusion_matrix\n",
        "import time\n",
        "from datetime import timedelta\n",
        "import math"
      ],
      "execution_count": 0,
      "outputs": []
    },
    {
      "metadata": {
        "id": "lDW9qfGepQZq",
        "colab_type": "code",
        "colab": {}
      },
      "cell_type": "code",
      "source": [
        "#Convolutional layer 1# Convolutional Layer 1.\n",
        "filter_size1 = 5          # Convolution filters (kernel) are 5 x 5 pixels.\n",
        "num_filters1 = 16         # There are 16 of these filters. "
      ],
      "execution_count": 0,
      "outputs": []
    },
    {
      "metadata": {
        "id": "QJ3c48YfpRjm",
        "colab_type": "code",
        "colab": {}
      },
      "cell_type": "code",
      "source": [
        "# Convolutional Layer 2.\n",
        "filter_size2 = 5          # Convolution filters are 5 x 5 pixels.\n",
        "num_filters2 = 32         # There are 32 of these filters.\n"
      ],
      "execution_count": 0,
      "outputs": []
    },
    {
      "metadata": {
        "id": "vo5QLrowpSbz",
        "colab_type": "code",
        "colab": {}
      },
      "cell_type": "code",
      "source": [
        "# Fully-connected layer.\n",
        "fc_size = 128             # Number of neurons in fully-connected layer."
      ],
      "execution_count": 0,
      "outputs": []
    },
    {
      "metadata": {
        "id": "Sgo4SJwxpTeG",
        "colab_type": "code",
        "colab": {
          "base_uri": "https://localhost:8080/",
          "height": 85
        },
        "outputId": "5644074e-9092-4472-f3b5-545fabd159a1"
      },
      "cell_type": "code",
      "source": [
        "from tensorflow.examples.tutorials.mnist import input_data\n",
        "data = input_data.read_data_sets('data/MNIST/', one_hot=True)"
      ],
      "execution_count": 17,
      "outputs": [
        {
          "output_type": "stream",
          "text": [
            "Extracting data/MNIST/train-images-idx3-ubyte.gz\n",
            "Extracting data/MNIST/train-labels-idx1-ubyte.gz\n",
            "Extracting data/MNIST/t10k-images-idx3-ubyte.gz\n",
            "Extracting data/MNIST/t10k-labels-idx1-ubyte.gz\n"
          ],
          "name": "stdout"
        }
      ]
    },
    {
      "metadata": {
        "id": "2gRl06sHpUXq",
        "colab_type": "code",
        "colab": {}
      },
      "cell_type": "code",
      "source": [
        "\n",
        "pkeep = tf.placeholder(tf.float32)\n",
        "data.test.cls = np.argmax(data.test.labels, axis=1)\n",
        "\n",
        "# We know that MNIST images are 28 pixels in each dimension.\n",
        "img_size = 28\n",
        "\n",
        "# Images are stored in one-dimensional arrays of this length.\n",
        "img_size_flat = img_size * img_size\n",
        "\n",
        "# Tuple with height and width of images used to reshape arrays.\n",
        "img_shape = (img_size, img_size)\n",
        "\n",
        "# Number of colour channels for the images: 1 channel for gray-scale.\n",
        "num_channels = 1\n",
        "\n",
        "# Number of classes, one class for each of 10 digits.\n",
        "num_classes = 10\n"
      ],
      "execution_count": 0,
      "outputs": []
    },
    {
      "metadata": {
        "id": "95GTpxVEpVRw",
        "colab_type": "code",
        "colab": {}
      },
      "cell_type": "code",
      "source": [
        "\n",
        "\n",
        "def plot_images(images, cls_true, cls_pred=None):\n",
        "    assert len(images) == len(cls_true) == 9\n",
        "    \n",
        "    # Create figure with 3x3 sub-plots.\n",
        "    fig, axes = plt.subplots(3, 3)\n",
        "    fig.subplots_adjust(hspace=0.3, wspace=0.3)\n",
        "\n",
        "    for i, ax in enumerate(axes.flat):\n",
        "        # Plot image.\n",
        "        ax.imshow(images[i].reshape(img_shape), cmap='binary')\n",
        "\n",
        "        # Show true and predicted classes.\n",
        "        if cls_pred is None:\n",
        "            xlabel = \"True: {0}\".format(cls_true[i])\n",
        "        else:\n",
        "            xlabel = \"True: {0}, Pred: {1}\".format(cls_true[i], cls_pred[i])\n",
        "\n",
        "        # Show the classes as the label on the x-axis.\n",
        "        ax.set_xlabel(xlabel)\n",
        "        \n",
        "        # Remove ticks from the plot.\n",
        "        ax.set_xticks([])\n",
        "        ax.set_yticks([])\n",
        "    \n",
        "    # Ensure the plot is shown correctly with multiple plots\n",
        "    # in a single Notebook cell.\n",
        "    plt.show()\n",
        "\n"
      ],
      "execution_count": 0,
      "outputs": []
    },
    {
      "metadata": {
        "id": "dAIWg8L3pWPM",
        "colab_type": "code",
        "colab": {
          "base_uri": "https://localhost:8080/",
          "height": 344
        },
        "outputId": "7c822776-4415-433b-c187-18d77d67d5cd"
      },
      "cell_type": "code",
      "source": [
        "\n",
        "# Get the first images from the test-set.\n",
        "images = data.test.images[0:9]\n",
        "\n",
        "# Get the true classes for those images.\n",
        "cls_true = data.test.cls[0:9]\n",
        "\n",
        "# Plot the images and labels using our helper-function above.\n",
        "plot_images(images=images, cls_true=cls_true)\n",
        "\n",
        "\n",
        "def new_weights(shape):\n",
        "    return tf.Variable(tf.truncated_normal(shape, stddev=0.05))\n",
        "\n",
        "\n",
        "def new_biases(length):\n",
        "    return tf.Variable(tf.constant(0.05, shape=[length]))"
      ],
      "execution_count": 20,
      "outputs": [
        {
          "output_type": "display_data",
          "data": {
            "image/png": "[encoded data removed]",
            "text/plain": [
              "<matplotlib.figure.Figure at 0x7f97b543da20>"
            ]
          },
          "metadata": {
            "tags": []
          }
        }
      ]
    },
    {
      "metadata": {
        "id": "UjEcpVV7pXgA",
        "colab_type": "code",
        "colab": {}
      },
      "cell_type": "code",
      "source": [
        "\n",
        "def new_conv_layer(input,              # The previous layer.\n",
        "                   num_input_channels, # Num. channels in prev. layer.\n",
        "                   filter_size,        # Width and height of each filter.\n",
        "                   num_filters,        # Number of filters.\n",
        "                   use_pooling=True):  # Use 2x2 max-pooling.\n",
        "\n",
        "    # Shape of the filter-weights for the convolution.\n",
        "    # This format is determined by the TensorFlow API.\n",
        "    shape = [filter_size, filter_size, num_input_channels, num_filters]\n",
        "\n",
        "    # Create new weights aka. filters with the given shape.\n",
        "    weights = new_weights(shape=shape)\n",
        "\n",
        "    # Create new biases, one for each filter.\n",
        "    biases = new_biases(length=num_filters)\n",
        "\n",
        "    # Create the TensorFlow operation for convolution.\n",
        "    # Note the strides are set to 1 in all dimensions.\n",
        "    # The first and last stride must always be 1,\n",
        "    # because the first is for the image-number and\n",
        "    # the last is for the input-channel.\n",
        "    # But e.g. strides=[1, 2, 2, 1] would mean that the filter\n",
        "    # is moved 2 pixels across the x- and y-axis of the image.\n",
        "    # The padding is set to 'SAME' which means the input image\n",
        "    # is padded with zeroes so the size of the output is the same.\n",
        "    layer = tf.nn.conv2d(input=input,\n",
        "                         filter=weights,\n",
        "                         strides=[1, 1, 1, 1],\n",
        "                         padding='SAME')\n",
        "\n",
        "    # Add the biases to the results of the convolution.\n",
        "    # A bias-value is added to each filter-channel.\n",
        "    layer += biases\n",
        "\n",
        "    # Use pooling to down-sample the image resolution?\n",
        "    if use_pooling:\n",
        "        # This is 2x2 max-pooling, which means that we\n",
        "        # consider 2x2 windows and select the largest value\n",
        "        # in each window. Then we move 2 pixels to the next window.\n",
        "        layer = tf.nn.max_pool(value=layer,\n",
        "                               ksize=[1, 2, 2, 1],\n",
        "                               strides=[1, 2, 2, 1],\n",
        "                               padding='SAME')\n",
        "\n",
        "    # Rectified Linear Unit (ReLU).\n",
        "    # It calculates max(x, 0) for each input pixel x.\n",
        "    # This adds some non-linearity to the formula and allows us\n",
        "    # to learn more complicated functions.\n",
        "    layer = tf.nn.relu(layer)\n",
        "    #layer_dp=tf.nn.dropout(layer, pkeep)\n",
        "\n",
        "    # Note that ReLU is normally executed before the pooling,\n",
        "    # but since relu(max_pool(x)) == max_pool(relu(x)) we can\n",
        "    # save 75% of the relu-operations by max-pooling first.\n",
        "\n",
        "    # We return both the resulting layer and the filter-weights\n",
        "    # because we will plot the weights later.\n",
        "    return layer, weights\n"
      ],
      "execution_count": 0,
      "outputs": []
    },
    {
      "metadata": {
        "id": "h73EjcWgpZRS",
        "colab_type": "code",
        "colab": {}
      },
      "cell_type": "code",
      "source": [
        "\n",
        "def flatten_layer(layer):\n",
        "    # Get the shape of the input layer.\n",
        "    layer_shape = layer.get_shape()\n",
        "\n",
        "    # The shape of the input layer is assumed to be:\n",
        "    # layer_shape == [num_images, img_height, img_width, num_channels]\n",
        "\n",
        "    # The number of features is: img_height * img_width * num_channels\n",
        "    # We can use a function from TensorFlow to calculate this.\n",
        "    num_features = layer_shape[1:4].num_elements()\n",
        "    \n",
        "    # Reshape the layer to [num_images, num_features].\n",
        "    # Note that we just set the size of the second dimension\n",
        "    # to num_features and the size of the first dimension to -1\n",
        "    # which means the size in that dimension is calculated\n",
        "    # so the total size of the tensor is unchanged from the reshaping.\n",
        "    layer_flat = tf.reshape(layer, [-1, num_features])\n",
        "\n",
        "    # The shape of the flattened layer is now:\n",
        "    # [num_images, img_height * img_width * num_channels]\n",
        "\n",
        "    # Return both the flattened layer and the number of features.\n",
        "    return layer_flat, num_features"
      ],
      "execution_count": 0,
      "outputs": []
    },
    {
      "metadata": {
        "id": "hme60WC5paf2",
        "colab_type": "code",
        "colab": {}
      },
      "cell_type": "code",
      "source": [
        "def new_fc_layer(input,          # The previous layer.\n",
        "                 num_inputs,     # Num. inputs from prev. layer.\n",
        "                 num_outputs,    # Num. outputs.\n",
        "                 use_relu=True): # Use Rectified Linear Unit (ReLU)?\n",
        "\n",
        "    # Create new weights and biases.\n",
        "    weights = new_weights(shape=[num_inputs, num_outputs])\n",
        "    biases = new_biases(length=num_outputs)\n",
        "\n",
        "    # Calculate the layer as the matrix multiplication of\n",
        "    # the input and weights, and then add the bias-values.\n",
        "    layer = tf.matmul(input, weights) + biases\n",
        "\n",
        "    # Use ReLU?\n",
        "    if use_relu:\n",
        "        layer = tf.nn.relu(layer)\n",
        "\n",
        "    return layer"
      ],
      "execution_count": 0,
      "outputs": []
    },
    {
      "metadata": {
        "id": "jQT4pfZepf5D",
        "colab_type": "code",
        "colab": {}
      },
      "cell_type": "code",
      "source": [
        "x = tf.placeholder(tf.float32, shape=[None, img_size_flat], name='x')\n",
        "\n",
        "\n",
        "x_image = tf.reshape(x, [-1, img_size, img_size, num_channels])\n",
        "\n",
        "\n",
        "y_true = tf.placeholder(tf.float32, shape=[None, num_classes], name='y_true')\n",
        "\n",
        "\n",
        "y_true_cls = tf.argmax(y_true, axis=1)"
      ],
      "execution_count": 0,
      "outputs": []
    },
    {
      "metadata": {
        "id": "hnQbPRE1qJzu",
        "colab_type": "code",
        "colab": {}
      },
      "cell_type": "code",
      "source": [
        "\n",
        "layer_conv1, weights_conv1 = new_conv_layer(input=x_image,\n",
        "                   num_input_channels=num_channels,\n",
        "                   filter_size=filter_size1,\n",
        "                   num_filters=num_filters1,\n",
        "                   use_pooling=True)\n",
        "\n",
        "\n",
        "layer_conv2, weights_conv2 = new_conv_layer(input=layer_conv1,\n",
        "                   num_input_channels=num_filters1,\n",
        "                   filter_size=filter_size2,\n",
        "                   num_filters=num_filters2,\n",
        "                   use_pooling=True)\n",
        "\n",
        "layer_flat, num_features = flatten_layer(layer_conv2)\n",
        "\n",
        "\n",
        "layer_fc1 = new_fc_layer(input=layer_flat,\n",
        "                         num_inputs=num_features,\n",
        "                         num_outputs=fc_size,\n",
        "                         use_relu=True)\n",
        "\n",
        "\n",
        "\n",
        "layer_fc2 = new_fc_layer(input=layer_fc1,\n",
        "                         num_inputs=fc_size,\n",
        "                         num_outputs=num_classes,\n",
        "                         use_relu=False)\n",
        "\n",
        "\n",
        "\n",
        "y_pred = tf.nn.softmax(layer_fc2)"
      ],
      "execution_count": 0,
      "outputs": []
    },
    {
      "metadata": {
        "id": "ajx1Sg_SqLFy",
        "colab_type": "code",
        "colab": {
          "base_uri": "https://localhost:8080/",
          "height": 153
        },
        "outputId": "c6927d20-02e9-4b1b-a98b-226ed42d3d23"
      },
      "cell_type": "code",
      "source": [
        "y_pred_cls  = tf.argmax(y_pred, axis=1)\n",
        "\n",
        "\n",
        "#lr = 0.0001 +  tf.train.exponential_decay(0.003, step, 2000, 1/math.e)\n",
        "#train_step = tf.train.AdamOptimizer(lr).minimize(cross_entropy)\n",
        "\n",
        "\n",
        "\n",
        "\n",
        "\n",
        "cross_entropy = tf.nn.softmax_cross_entropy_with_logits(logits=layer_fc2,\n",
        "                                                        labels=y_true)\n",
        "\n",
        "\n",
        "cost = tf.reduce_mean(cross_entropy)\n"
      ],
      "execution_count": 26,
      "outputs": [
        {
          "output_type": "stream",
          "text": [
            "WARNING:tensorflow:From <ipython-input-26-ad71bad9a982>:12: softmax_cross_entropy_with_logits (from tensorflow.python.ops.nn_ops) is deprecated and will be removed in a future version.\n",
            "Instructions for updating:\n",
            "\n",
            "Future major versions of TensorFlow will allow gradients to flow\n",
            "into the labels input on backprop by default.\n",
            "\n",
            "See `tf.nn.softmax_cross_entropy_with_logits_v2`.\n",
            "\n"
          ],
          "name": "stdout"
        }
      ]
    },
    {
      "metadata": {
        "id": "uH0xuLFKqMvV",
        "colab_type": "code",
        "colab": {}
      },
      "cell_type": "code",
      "source": [
        "optimizer = tf.train.AdamOptimizer(learning_rate=1e-4).minimize(cost)\n",
        "#optimizer = tf.train.AdamOptimizer(lr).minimize(cost)\n",
        "\n",
        "correct_prediction = tf.equal(y_pred_cls, y_true_cls)\n",
        "\n",
        "\n",
        "accuracy = tf.reduce_mean(tf.cast(correct_prediction, tf.float32))\n",
        "\n",
        "\n",
        "session = tf.Session()\n",
        "\n",
        "session.run(tf.global_variables_initializer())\n",
        "\n",
        "\n",
        "train_batch_size = 64\n"
      ],
      "execution_count": 0,
      "outputs": []
    },
    {
      "metadata": {
        "id": "QrDzdAFLqN9W",
        "colab_type": "code",
        "colab": {}
      },
      "cell_type": "code",
      "source": [
        "\n",
        "# Counter for total number of iterations performed so far.\n",
        "total_iterations = 0\n",
        "\n",
        "def optimize(num_iterations):\n",
        "    # Ensure we update the global variable rather than a local copy.\n",
        "    global total_iterations\n",
        "\n",
        "    # Start-time used for printing time-usage below.\n",
        "    start_time = time.time()\n",
        "\n",
        "    for i in range(total_iterations,\n",
        "                   total_iterations + num_iterations):\n",
        "\n",
        "        # Get a batch of training examples.\n",
        "        # x_batch now holds a batch of images and\n",
        "        # y_true_batch are the true labels for those images.\n",
        "        x_batch, y_true_batch = data.train.next_batch(train_batch_size)\n",
        "\n",
        "        # Put the batch into a dict with the proper names\n",
        "        # for placeholder variables in the TensorFlow graph.\n",
        "        feed_dict_train = {x: x_batch,\n",
        "                           y_true: y_true_batch}\n",
        "\n",
        "        # Run the optimizer using this batch of training data.\n",
        "        # TensorFlow assigns the variables in feed_dict_train\n",
        "        # to the placeholder variables and then runs the optimizer.\n",
        "        session.run(optimizer, feed_dict=feed_dict_train)\n",
        "\n",
        "        # Print status every 100 iterations.\n",
        "        if i % 100 == 0:\n",
        "            # Calculate the accuracy on the training-set.\n",
        "            acc = session.run(accuracy, feed_dict=feed_dict_train)\n",
        "\n",
        "            # Message for printing.\n",
        "            msg = \"Optimization Iteration: {0:>6}, Training Accuracy: {1:>6.1%}\"\n",
        "\n",
        "            # Print it.\n",
        "            print(msg.format(i + 1, acc))\n",
        "\n",
        "    # Update the total number of iterations performed.\n",
        "    total_iterations += num_iterations\n",
        "\n",
        "    # Ending time.\n",
        "    end_time = time.time()\n",
        "\n",
        "    # Difference between start and end-times.\n",
        "    time_dif = end_time - start_time\n",
        "\n",
        "    # Print the time-usage.\n",
        "    print(\"Time usage: \" + str(timedelta(seconds=int(round(time_dif)))))\n",
        "\n"
      ],
      "execution_count": 0,
      "outputs": []
    },
    {
      "metadata": {
        "id": "YG7XsL2iqPgN",
        "colab_type": "code",
        "colab": {}
      },
      "cell_type": "code",
      "source": [
        "\n",
        "def plot_example_errors(cls_pred, correct):\n",
        "    # This function is called from print_test_accuracy() below.\n",
        "\n",
        "    # cls_pred is an array of the predicted class-number for\n",
        "    # all images in the test-set.\n",
        "\n",
        "    # correct is a boolean array whether the predicted class\n",
        "    # is equal to the true class for each image in the test-set.\n",
        "\n",
        "    # Negate the boolean array.\n",
        "    incorrect = (correct == False)\n",
        "    \n",
        "    # Get the images from the test-set that have been\n",
        "    # incorrectly classified.\n",
        "    images = data.test.images[incorrect]\n",
        "    \n",
        "    # Get the predicted classes for those images.\n",
        "    cls_pred = cls_pred[incorrect]\n",
        "\n",
        "    # Get the true classes for those images.\n",
        "    cls_true = data.test.cls[incorrect]\n",
        "    \n",
        "    # Plot the first 9 images.\n",
        "    plot_images(images=images[0:9],\n",
        "                cls_true=cls_true[0:9],\n",
        "                cls_pred=cls_pred[0:9])\n",
        "\n"
      ],
      "execution_count": 0,
      "outputs": []
    },
    {
      "metadata": {
        "id": "NBfec_TgqRC0",
        "colab_type": "code",
        "colab": {}
      },
      "cell_type": "code",
      "source": [
        "def plot_confusion_matrix(cls_pred):\n",
        "    # This is called from print_test_accuracy() below.\n",
        "\n",
        "    # cls_pred is an array of the predicted class-number for\n",
        "    # all images in the test-set.\n",
        "\n",
        "    # Get the true classifications for the test-set.\n",
        "    cls_true = data.test.cls\n",
        "    \n",
        "    # Get the confusion matrix using sklearn.\n",
        "    cm = confusion_matrix(y_true=cls_true,\n",
        "                          y_pred=cls_pred)\n",
        "\n",
        "    # Print the confusion matrix as text.\n",
        "    print(cm)\n",
        "\n",
        "    # Plot the confusion matrix as an image.\n",
        "    plt.matshow(cm)\n",
        "\n",
        "    # Make various adjustments to the plot.\n",
        "    plt.colorbar()\n",
        "    tick_marks = np.arange(num_classes)\n",
        "    plt.xticks(tick_marks, range(num_classes))\n",
        "    plt.yticks(tick_marks, range(num_classes))\n",
        "    plt.xlabel('Predicted')\n",
        "    plt.ylabel('True')\n",
        "\n",
        "    # Ensure the plot is shown correctly with multiple plots\n",
        "    # in a single Notebook cell.\n",
        "    plt.show()"
      ],
      "execution_count": 0,
      "outputs": []
    },
    {
      "metadata": {
        "id": "dlGUwkzjqSiI",
        "colab_type": "code",
        "colab": {}
      },
      "cell_type": "code",
      "source": [
        "\n",
        "test_batch_size = 256\n",
        "\n",
        "def print_test_accuracy(show_example_errors=False,\n",
        "                        show_confusion_matrix=False):\n",
        "\n",
        "    # Number of images in the test-set.\n",
        "    num_test = len(data.test.images)\n",
        "\n",
        "    # Allocate an array for the predicted classes which\n",
        "    # will be calculated in batches and filled into this array.\n",
        "    cls_pred = np.zeros(shape=num_test, dtype=np.int)\n",
        "\n",
        "    # Now calculate the predicted classes for the batches.\n",
        "    # We will just iterate through all the batches.\n",
        "    # There might be a more clever and Pythonic way of doing this.\n",
        "\n",
        "    # The starting index for the next batch is denoted i.\n",
        "    i = 0\n",
        "\n",
        "    while i < num_test:\n",
        "        # The ending index for the next batch is denoted j.\n",
        "        j = min(i + test_batch_size, num_test)\n",
        "\n",
        "        # Get the images from the test-set between index i and j.\n",
        "        images = data.test.images[i:j, :]\n",
        "\n",
        "        # Get the associated labels.\n",
        "        labels = data.test.labels[i:j, :]\n",
        "\n",
        "        # Create a feed-dict with these images and labels.\n",
        "        feed_dict = {x: images,\n",
        "                     y_true: labels}\n",
        "\n",
        "        # Calculate the predicted class using TensorFlow.\n",
        "        cls_pred[i:j] = session.run(y_pred_cls, feed_dict=feed_dict)\n",
        "\n",
        "        # Set the start-index for the next batch to the\n",
        "        # end-index of the current batch.\n",
        "        i = j\n",
        "\n",
        "    # Convenience variable for the true class-numbers of the test-set.\n",
        "    cls_true = data.test.cls\n",
        "\n",
        "    # Create a boolean array whether each image is correctly classified.\n",
        "    correct = (cls_true == cls_pred)\n",
        "\n",
        "    # Calculate the number of correctly classified images.\n",
        "    # When summing a boolean array, False means 0 and True means 1.\n",
        "    correct_sum = correct.sum()\n",
        "\n",
        "    # Classification accuracy is the number of correctly classified\n",
        "    # images divided by the total number of images in the test-set.\n",
        "    acc = float(correct_sum) / num_test\n",
        "\n",
        "    # Print the accuracy.\n",
        "    msg = \"Accuracy on Test-Set: {0:.1%} ({1} / {2})\"\n",
        "    print(msg.format(acc, correct_sum, num_test))\n",
        "\n",
        "    # Plot some examples of mis-classifications, if desired.\n",
        "    if show_example_errors:\n",
        "        print(\"Example errors:\")\n",
        "        plot_example_errors(cls_pred=cls_pred, correct=correct)\n",
        "\n",
        "    # Plot the confusion matrix, if desired.\n",
        "    if show_confusion_matrix:\n",
        "        print(\"Confusion Matrix:\")\n",
        "        plot_confusion_matrix(cls_pred=cls_pred)\n"
      ],
      "execution_count": 0,
      "outputs": []
    },
    {
      "metadata": {
        "id": "_-qVnZ_HqUd8",
        "colab_type": "code",
        "colab": {
          "base_uri": "https://localhost:8080/",
          "height": 323
        },
        "outputId": "ad4f82ad-ded2-4451-8430-633f36353f66"
      },
      "cell_type": "code",
      "source": [
        "print_test_accuracy()\n",
        "\n",
        "optimize(num_iterations=1)\n",
        "print_test_accuracy()\n",
        "\n",
        "optimize(num_iterations=50)\n",
        "\n",
        "print_test_accuracy()\n",
        "\n",
        "\n",
        "optimize(num_iterations=99)\n",
        "\n",
        "print_test_accuracy()\n",
        "\n",
        "\n",
        "optimize(num_iterations=100)\n",
        "\n",
        "print_test_accuracy()\n",
        "\n",
        "\n",
        "optimize(num_iterations=1000)\n",
        "\n",
        "print_test_accuracy()\n",
        "\n"
      ],
      "execution_count": 0,
      "outputs": [
        {
          "output_type": "stream",
          "text": [
            "Accuracy on Test-Set: 12.3% (1230 / 10000)\n",
            "Optimization Iteration:      1, Training Accuracy:  17.2%\n",
            "Time usage: 0:00:00\n",
            "Accuracy on Test-Set: 12.3% (1231 / 10000)\n",
            "Time usage: 0:00:04\n",
            "Accuracy on Test-Set: 38.6% (3862 / 10000)\n",
            "Optimization Iteration:    101, Training Accuracy:  62.5%\n",
            "Time usage: 0:00:08\n",
            "Accuracy on Test-Set: 68.8% (6875 / 10000)\n",
            "Optimization Iteration:    201, Training Accuracy:  81.2%\n",
            "Time usage: 0:00:08\n",
            "Accuracy on Test-Set: 83.9% (8389 / 10000)\n",
            "Optimization Iteration:    301, Training Accuracy:  92.2%\n",
            "Optimization Iteration:    401, Training Accuracy:  89.1%\n",
            "Optimization Iteration:    501, Training Accuracy:  85.9%\n",
            "Optimization Iteration:    601, Training Accuracy:  95.3%\n",
            "Optimization Iteration:    701, Training Accuracy:  85.9%\n",
            "Optimization Iteration:    801, Training Accuracy:  92.2%\n"
          ],
          "name": "stdout"
        }
      ]
    },
    {
      "metadata": {
        "id": "8DQoh4moqVnq",
        "colab_type": "code",
        "colab": {}
      },
      "cell_type": "code",
      "source": [
        "\n",
        "\n",
        "optimize(num_iterations=1000)\n",
        "\n",
        "print_test_accuracy(show_example_errors=True)\n",
        "\n",
        "\n",
        "optimize(num_iterations=9000)\n",
        "\n",
        "print_test_accuracy(show_example_errors=True,\n",
        "                    show_confusion_matrix=True)\n",
        "\n",
        "def plot_conv_weights(weights, input_channel=0):\n",
        "    # Assume weights are TensorFlow ops for 4-dim variables\n",
        "    # e.g. weights_conv1 or weights_conv2.\n",
        "    \n",
        "    # Retrieve the values of the weight-variables from TensorFlow.\n",
        "    # A feed-dict is not necessary because nothing is calculated.\n",
        "    w = session.run(weights)\n",
        "\n",
        "    # Get the lowest and highest values for the weights.\n",
        "    # This is used to correct the colour intensity across\n",
        "    # the images so they can be compared with each other.\n",
        "    w_min = np.min(w)\n",
        "    w_max = np.max(w)\n",
        "\n",
        "    # Number of filters used in the conv. layer.\n",
        "    num_filters = w.shape[3]\n",
        "\n",
        "    # Number of grids to plot.\n",
        "    # Rounded-up, square-root of the number of filters.\n",
        "    num_grids = math.ceil(math.sqrt(num_filters))\n",
        "    \n",
        "    # Create figure with a grid of sub-plots.\n",
        "    fig, axes = plt.subplots(num_grids, num_grids)\n",
        "\n",
        "    # Plot all the filter-weights.\n",
        "    for i, ax in enumerate(axes.flat):\n",
        "        # Only plot the valid filter-weights.\n",
        "        if i<num_filters:\n",
        "            # Get the weights for the i'th filter of the input channel.\n",
        "            # See new_conv_layer() for details on the format\n",
        "            # of this 4-dim tensor.\n",
        "            img = w[:, :, input_channel, i]\n",
        "\n",
        "            # Plot image.\n",
        "            ax.imshow(img, vmin=w_min, vmax=w_max,\n",
        "                      interpolation='nearest', cmap='seismic')\n",
        "        \n",
        "        # Remove ticks from the plot.\n",
        "        ax.set_xticks([])\n",
        "        ax.set_yticks([])\n",
        "    \n",
        "    # Ensure the plot is shown correctly with multiple plots\n",
        "    # in a single Notebook cell.\n",
        "    plt.show()"
      ],
      "execution_count": 0,
      "outputs": []
    },
    {
      "metadata": {
        "id": "ZCXEkVgkqX2X",
        "colab_type": "code",
        "colab": {}
      },
      "cell_type": "code",
      "source": [
        "\n",
        "\n",
        "def plot_conv_layer(layer, image):\n",
        "    # Assume layer is a TensorFlow op that outputs a 4-dim tensor\n",
        "    # which is the output of a convolutional layer,\n",
        "    # e.g. layer_conv1 or layer_conv2.\n",
        "\n",
        "    # Create a feed-dict containing just one image.\n",
        "    # Note that we don't need to feed y_true because it is\n",
        "    # not used in this calculation.\n",
        "    feed_dict = {x: [image]}\n",
        "\n",
        "    # Calculate and retrieve the output values of the layer\n",
        "    # when inputting that image.\n",
        "    values = session.run(layer, feed_dict=feed_dict)\n",
        "\n",
        "    # Number of filters used in the conv. layer.\n",
        "    num_filters = values.shape[3]\n",
        "\n",
        "    # Number of grids to plot.\n",
        "    # Rounded-up, square-root of the number of filters.\n",
        "    num_grids = math.ceil(math.sqrt(num_filters))\n",
        "    \n",
        "    # Create figure with a grid of sub-plots.\n",
        "    fig, axes = plt.subplots(num_grids, num_grids)\n",
        "\n",
        "    # Plot the output images of all the filters.\n",
        "    for i, ax in enumerate(axes.flat):\n",
        "        # Only plot the images for valid filters.\n",
        "        if i<num_filters:\n",
        "            # Get the output image of using the i'th filter.\n",
        "            # See new_conv_layer() for details on the format\n",
        "            # of this 4-dim tensor.\n",
        "            img = values[0, :, :, i]\n",
        "\n",
        "            # Plot image.\n",
        "            ax.imshow(img, interpolation='nearest', cmap='binary')\n",
        "        \n",
        "        # Remove ticks from the plot.\n",
        "        ax.set_xticks([])\n",
        "        ax.set_yticks([])\n",
        "    \n",
        "    # Ensure the plot is shown correctly with multiple plots\n",
        "    # in a single Notebook cell.\n",
        "    plt.show()"
      ],
      "execution_count": 0,
      "outputs": []
    },
    {
      "metadata": {
        "id": "nt-R_O-XqZn0",
        "colab_type": "code",
        "colab": {}
      },
      "cell_type": "code",
      "source": [
        "def plot_image(image):\n",
        "    plt.imshow(image.reshape(img_shape),\n",
        "               interpolation='nearest',\n",
        "               cmap='binary')\n",
        "\n",
        "    plt.show()   \n",
        "    \n",
        "image1 = data.test.images[0]\n",
        "plot_image(image1)    \n",
        "\n",
        "\n",
        "image2 = data.test.images[13]\n",
        "plot_image(image2)\n",
        "\n",
        "plot_conv_weights(weights=weights_conv1)\n",
        "\n",
        "\n",
        "plot_conv_layer(layer=layer_conv1, image=image1)\n",
        "\n",
        "\n"
      ],
      "execution_count": 0,
      "outputs": []
    },
    {
      "metadata": {
        "id": "6H_QZHEXqaqw",
        "colab_type": "code",
        "colab": {}
      },
      "cell_type": "code",
      "source": [
        ""
      ],
      "execution_count": 0,
      "outputs": []
    }
  ]
}