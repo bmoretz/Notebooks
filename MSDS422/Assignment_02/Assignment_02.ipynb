{
 "cells": [
  {
   "cell_type": "code",
   "execution_count": null,
   "metadata": {},
   "outputs": [],
   "source": [
    "import os\n",
    "%matplotlib inline\n",
    "import pandas as pd\n",
    "import numpy as np\n",
    "import matplotlib.pyplot as plt\n",
    "from six.moves import urllib\n",
    "\n",
    "DOWNLOAD_ROOT = \"https://raw.githubusercontent.com/bmoretz/notebooks/master/MSDS422/Assignment_02/\"\n",
    "DATA_PATH = os.path.join(\"datasets\")\n",
    "FILE_URL = DOWNLOAD_ROOT + \"datasets/bank.csv\"\n",
    "\n",
    "LOCAL_FILE_PATH = os.path.join(\"datasets\", \"bank.csv\")\n",
    "\n",
    "def fetch_bank_data( file_url = FILE_URL, data_path = DATA_PATH):\n",
    "    if not os.path.isdir( data_path ):\n",
    "        os.makedirs( data_path )\n",
    "    urllib.request.urlretrieve(file_url, LOCAL_FILE_PATH)\n",
    "    \n",
    "def load_bank_data( survey_path = SURVEY_FILE_PATH):\n",
    "    return pd.read_csv(survey_path)"
   ]
  }
 ],
 "metadata": {
  "kernelspec": {
   "display_name": "Python 3",
   "language": "python",
   "name": "python3"
  },
  "language_info": {
   "codemirror_mode": {
    "name": "ipython",
    "version": 3
   },
   "file_extension": ".py",
   "mimetype": "text/x-python",
   "name": "python",
   "nbconvert_exporter": "python",
   "pygments_lexer": "ipython3",
   "version": "3.6.5"
  }
 },
 "nbformat": 4,
 "nbformat_minor": 2
}
