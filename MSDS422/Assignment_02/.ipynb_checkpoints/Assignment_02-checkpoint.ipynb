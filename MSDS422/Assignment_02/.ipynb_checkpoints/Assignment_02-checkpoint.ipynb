{
 "cells": [
  {
   "cell_type": "code",
   "execution_count": 775,
   "metadata": {
    "collapsed": true
   },
   "outputs": [],
   "source": [
    "import os\n",
    "%matplotlib inline\n",
    "import pandas as pd\n",
    "import numpy as np\n",
    "import matplotlib.pyplot as plt\n",
    "import seaborn as sns\n",
    "import urllib.request\n",
    "from pathlib import Path\n",
    "import urllib.parse\n",
    "import random\n",
    "\n",
    "DOWNLOAD_ROOT = \"https://raw.githubusercontent.com/bmoretz/notebooks/master/MSDS422/Assignment_02\"\n",
    "DATA_PATH = \"datasets\"\n",
    "DATA_FILE = \"bank.csv\"\n",
    "FILE_URL = \"{}/{}/{}\".format(DOWNLOAD_ROOT, DATA_PATH, DATA_FILE)\n",
    "\n",
    "# Where to save the figures\n",
    "PROJECT_ROOT_DIR = \".\"\n",
    "\n",
    "RANDOM_SEED = 1\n",
    "\n",
    "# fetch bank data from remote repo (if it doesn't exist)\n",
    "def fetch_bank_data( file_url = FILE_URL, data_path = DATA_PATH, file_path = DATA_FILE):\n",
    "    if not os.path.isdir( data_path ):\n",
    "        os.makedirs( data_path )\n",
    "    urllib.request.urlretrieve(file_url, os.path.join(DATA_PATH, DATA_FILE))\n",
    "    \n",
    "# load bank data from disk\n",
    "def load_bank_data( file_path = DATA_PATH, file_name = DATA_FILE, sep = \",\"):\n",
    "    return pd.read_csv(os.path.join(file_path, file_name), sep = sep)\n",
    "\n",
    "# santatize Dataset\n",
    "def santatize_set( dataframe ):\n",
    "    if dataframe.isnull().values.any() == True:\n",
    "        cleaned = dataframe.dropna()\n",
    "        print('Dropped {} invalid samples'.format(dataframe.count - cleaned.count))\n",
    "        dataframe = cleaned\n",
    "    return dataframe\n",
    "\n",
    "# saves a plot for reporting later. \n",
    "def save_fig(fig_id, tight_layout=True):\n",
    "    path = os.path.join(PROJECT_ROOT_DIR, \"images\", fig_id + \".png\")\n",
    "    print(\"Saving figure\", fig_id)\n",
    "    if tight_layout:\n",
    "        plt.tight_layout()\n",
    "    plt.savefig(path, format='png', dpi=300)"
   ]
  },
  {
   "cell_type": "code",
   "execution_count": 776,
   "metadata": {},
   "outputs": [],
   "source": [
    "# fetch & load data"
   ]
  },
  {
   "cell_type": "code",
   "execution_count": 777,
   "metadata": {},
   "outputs": [],
   "source": [
    "data_file = Path(os.path.join(os.getcwd(), DATA_PATH))"
   ]
  },
  {
   "cell_type": "code",
   "execution_count": 778,
   "metadata": {
    "collapsed": true
   },
   "outputs": [],
   "source": [
    "# download data into workspace\n",
    "if not data_file.is_file():\n",
    "    fetch_bank_data()"
   ]
  },
  {
   "cell_type": "code",
   "execution_count": 779,
   "metadata": {},
   "outputs": [],
   "source": [
    "# Load the CSV into a DataFrame\n",
    "bank = load_bank_data(sep = ';')"
   ]
  },
  {
   "cell_type": "code",
   "execution_count": 780,
   "metadata": {},
   "outputs": [],
   "source": [
    "bank = santatize_set(bank)"
   ]
  },
  {
   "cell_type": "code",
   "execution_count": 781,
   "metadata": {},
   "outputs": [
    {
     "data": {
      "text/plain": [
       "['age',\n",
       " 'job',\n",
       " 'marital',\n",
       " 'education',\n",
       " 'default',\n",
       " 'balance',\n",
       " 'housing',\n",
       " 'loan',\n",
       " 'contact',\n",
       " 'day',\n",
       " 'month',\n",
       " 'duration',\n",
       " 'campaign',\n",
       " 'pdays',\n",
       " 'previous',\n",
       " 'poutcome',\n",
       " 'response']"
      ]
     },
     "execution_count": 781,
     "metadata": {},
     "output_type": "execute_result"
    }
   ],
   "source": [
    "list(bank.columns.values)"
   ]
  },
  {
   "cell_type": "code",
   "execution_count": 782,
   "metadata": {},
   "outputs": [
    {
     "data": {
      "text/html": [
       "<div>\n",
       "<style>\n",
       "    .dataframe thead tr:only-child th {\n",
       "        text-align: right;\n",
       "    }\n",
       "\n",
       "    .dataframe thead th {\n",
       "        text-align: left;\n",
       "    }\n",
       "\n",
       "    .dataframe tbody tr th {\n",
       "        vertical-align: top;\n",
       "    }\n",
       "</style>\n",
       "<table border=\"1\" class=\"dataframe\">\n",
       "  <thead>\n",
       "    <tr style=\"text-align: right;\">\n",
       "      <th></th>\n",
       "      <th>age</th>\n",
       "      <th>job</th>\n",
       "      <th>marital</th>\n",
       "      <th>education</th>\n",
       "      <th>default</th>\n",
       "      <th>balance</th>\n",
       "      <th>housing</th>\n",
       "      <th>loan</th>\n",
       "      <th>contact</th>\n",
       "      <th>day</th>\n",
       "      <th>month</th>\n",
       "      <th>duration</th>\n",
       "      <th>campaign</th>\n",
       "      <th>pdays</th>\n",
       "      <th>previous</th>\n",
       "      <th>poutcome</th>\n",
       "      <th>response</th>\n",
       "    </tr>\n",
       "  </thead>\n",
       "  <tbody>\n",
       "    <tr>\n",
       "      <th>0</th>\n",
       "      <td>30</td>\n",
       "      <td>unemployed</td>\n",
       "      <td>married</td>\n",
       "      <td>primary</td>\n",
       "      <td>no</td>\n",
       "      <td>1787</td>\n",
       "      <td>no</td>\n",
       "      <td>no</td>\n",
       "      <td>cellular</td>\n",
       "      <td>19</td>\n",
       "      <td>oct</td>\n",
       "      <td>79</td>\n",
       "      <td>1</td>\n",
       "      <td>-1</td>\n",
       "      <td>0</td>\n",
       "      <td>unknown</td>\n",
       "      <td>no</td>\n",
       "    </tr>\n",
       "    <tr>\n",
       "      <th>1</th>\n",
       "      <td>33</td>\n",
       "      <td>services</td>\n",
       "      <td>married</td>\n",
       "      <td>secondary</td>\n",
       "      <td>no</td>\n",
       "      <td>4789</td>\n",
       "      <td>yes</td>\n",
       "      <td>yes</td>\n",
       "      <td>cellular</td>\n",
       "      <td>11</td>\n",
       "      <td>may</td>\n",
       "      <td>220</td>\n",
       "      <td>1</td>\n",
       "      <td>339</td>\n",
       "      <td>4</td>\n",
       "      <td>failure</td>\n",
       "      <td>no</td>\n",
       "    </tr>\n",
       "    <tr>\n",
       "      <th>2</th>\n",
       "      <td>35</td>\n",
       "      <td>management</td>\n",
       "      <td>single</td>\n",
       "      <td>tertiary</td>\n",
       "      <td>no</td>\n",
       "      <td>1350</td>\n",
       "      <td>yes</td>\n",
       "      <td>no</td>\n",
       "      <td>cellular</td>\n",
       "      <td>16</td>\n",
       "      <td>apr</td>\n",
       "      <td>185</td>\n",
       "      <td>1</td>\n",
       "      <td>330</td>\n",
       "      <td>1</td>\n",
       "      <td>failure</td>\n",
       "      <td>no</td>\n",
       "    </tr>\n",
       "    <tr>\n",
       "      <th>3</th>\n",
       "      <td>30</td>\n",
       "      <td>management</td>\n",
       "      <td>married</td>\n",
       "      <td>tertiary</td>\n",
       "      <td>no</td>\n",
       "      <td>1476</td>\n",
       "      <td>yes</td>\n",
       "      <td>yes</td>\n",
       "      <td>unknown</td>\n",
       "      <td>3</td>\n",
       "      <td>jun</td>\n",
       "      <td>199</td>\n",
       "      <td>4</td>\n",
       "      <td>-1</td>\n",
       "      <td>0</td>\n",
       "      <td>unknown</td>\n",
       "      <td>no</td>\n",
       "    </tr>\n",
       "    <tr>\n",
       "      <th>4</th>\n",
       "      <td>59</td>\n",
       "      <td>blue-collar</td>\n",
       "      <td>married</td>\n",
       "      <td>secondary</td>\n",
       "      <td>no</td>\n",
       "      <td>0</td>\n",
       "      <td>yes</td>\n",
       "      <td>no</td>\n",
       "      <td>unknown</td>\n",
       "      <td>5</td>\n",
       "      <td>may</td>\n",
       "      <td>226</td>\n",
       "      <td>1</td>\n",
       "      <td>-1</td>\n",
       "      <td>0</td>\n",
       "      <td>unknown</td>\n",
       "      <td>no</td>\n",
       "    </tr>\n",
       "  </tbody>\n",
       "</table>\n",
       "</div>"
      ],
      "text/plain": [
       "   age          job  marital  education default  balance housing loan  \\\n",
       "0   30   unemployed  married    primary      no     1787      no   no   \n",
       "1   33     services  married  secondary      no     4789     yes  yes   \n",
       "2   35   management   single   tertiary      no     1350     yes   no   \n",
       "3   30   management  married   tertiary      no     1476     yes  yes   \n",
       "4   59  blue-collar  married  secondary      no        0     yes   no   \n",
       "\n",
       "    contact  day month  duration  campaign  pdays  previous poutcome response  \n",
       "0  cellular   19   oct        79         1     -1         0  unknown       no  \n",
       "1  cellular   11   may       220         1    339         4  failure       no  \n",
       "2  cellular   16   apr       185         1    330         1  failure       no  \n",
       "3   unknown    3   jun       199         4     -1         0  unknown       no  \n",
       "4   unknown    5   may       226         1     -1         0  unknown       no  "
      ]
     },
     "execution_count": 782,
     "metadata": {},
     "output_type": "execute_result"
    }
   ],
   "source": [
    "# examine the raw data\n",
    "bank.head()"
   ]
  },
  {
   "cell_type": "code",
   "execution_count": 783,
   "metadata": {
    "collapsed": true
   },
   "outputs": [],
   "source": [
    "# mapping function to convert text no/yes to integer 0/1\n",
    "convert_to_binary = {'no' : 0, 'yes' : 1}"
   ]
  },
  {
   "cell_type": "code",
   "execution_count": 784,
   "metadata": {
    "collapsed": true
   },
   "outputs": [],
   "source": [
    "# Convert yes/no string to binary\n",
    "\n",
    "# Suggested baseline variables\n",
    "\n",
    "default = bank['default'].map(convert_to_binary)\n",
    "housing = bank['housing'].map(convert_to_binary)\n",
    "loan = bank['loan'].map(convert_to_binary)\n",
    "\n",
    "# response\n",
    "response = bank['response'].map(convert_to_binary)"
   ]
  },
  {
   "cell_type": "code",
   "execution_count": 785,
   "metadata": {},
   "outputs": [],
   "source": [
    "# Data Exploration"
   ]
  },
  {
   "cell_type": "code",
   "execution_count": 786,
   "metadata": {},
   "outputs": [
    {
     "data": {
      "image/png": "[encoded data removed]",
      "text/plain": [
       "<matplotlib.figure.Figure at 0x1faf17a25f8>"
      ]
     },
     "metadata": {},
     "output_type": "display_data"
    }
   ],
   "source": [
    "bank['response'].value_counts().plot(kind=\"bar\")\n",
    "plt.show()"
   ]
  },
  {
   "cell_type": "code",
   "execution_count": 787,
   "metadata": {},
   "outputs": [
    {
     "data": {
      "text/plain": [
       "11.523999115239992"
      ]
     },
     "execution_count": 787,
     "metadata": {},
     "output_type": "execute_result"
    }
   ],
   "source": [
    "( response == 1 ).sum() / len(response) * 100"
   ]
  },
  {
   "cell_type": "code",
   "execution_count": 788,
   "metadata": {},
   "outputs": [
    {
     "data": {
      "text/html": [
       "<div>\n",
       "<style>\n",
       "    .dataframe thead tr:only-child th {\n",
       "        text-align: right;\n",
       "    }\n",
       "\n",
       "    .dataframe thead th {\n",
       "        text-align: left;\n",
       "    }\n",
       "\n",
       "    .dataframe tbody tr th {\n",
       "        vertical-align: top;\n",
       "    }\n",
       "</style>\n",
       "<table border=\"1\" class=\"dataframe\">\n",
       "  <thead>\n",
       "    <tr style=\"text-align: right;\">\n",
       "      <th></th>\n",
       "      <th>age</th>\n",
       "      <th>balance</th>\n",
       "      <th>day</th>\n",
       "      <th>duration</th>\n",
       "      <th>campaign</th>\n",
       "      <th>pdays</th>\n",
       "      <th>previous</th>\n",
       "    </tr>\n",
       "    <tr>\n",
       "      <th>response</th>\n",
       "      <th></th>\n",
       "      <th></th>\n",
       "      <th></th>\n",
       "      <th></th>\n",
       "      <th></th>\n",
       "      <th></th>\n",
       "      <th></th>\n",
       "    </tr>\n",
       "  </thead>\n",
       "  <tbody>\n",
       "    <tr>\n",
       "      <th>no</th>\n",
       "      <td>41.00</td>\n",
       "      <td>1,403.21</td>\n",
       "      <td>15.95</td>\n",
       "      <td>226.35</td>\n",
       "      <td>2.86</td>\n",
       "      <td>36.01</td>\n",
       "      <td>0.47</td>\n",
       "    </tr>\n",
       "    <tr>\n",
       "      <th>yes</th>\n",
       "      <td>42.49</td>\n",
       "      <td>1,571.96</td>\n",
       "      <td>15.66</td>\n",
       "      <td>552.74</td>\n",
       "      <td>2.27</td>\n",
       "      <td>68.64</td>\n",
       "      <td>1.09</td>\n",
       "    </tr>\n",
       "  </tbody>\n",
       "</table>\n",
       "</div>"
      ],
      "text/plain": [
       "           age  balance   day  duration  campaign  pdays  previous\n",
       "response                                                          \n",
       "no       41.00 1,403.21 15.95    226.35      2.86  36.01      0.47\n",
       "yes      42.49 1,571.96 15.66    552.74      2.27  68.64      1.09"
      ]
     },
     "execution_count": 788,
     "metadata": {},
     "output_type": "execute_result"
    }
   ],
   "source": [
    "# What does the average 'yes' person look like?\n",
    "pd.options.display.float_format = '{:,.2f}'.format\n",
    "bank.groupby('response').mean() # Note higher balance and duration in 'yes'"
   ]
  },
  {
   "cell_type": "code",
   "execution_count": 789,
   "metadata": {},
   "outputs": [
    {
     "data": {
      "image/png": "[encoded data removed]",
      "text/plain": [
       "<matplotlib.figure.Figure at 0x1faef4bc5c0>"
      ]
     },
     "metadata": {},
     "output_type": "display_data"
    }
   ],
   "source": [
    "# All Customers\n",
    "distributions = bank[['age', 'balance', 'duration', 'pdays']].hist( bins = 5, figsize=(15, 5), layout=(1,4))"
   ]
  },
  {
   "cell_type": "code",
   "execution_count": 790,
   "metadata": {},
   "outputs": [
    {
     "data": {
      "image/png": "[encoded data removed]",
      "text/plain": [
       "<matplotlib.figure.Figure at 0x1faf2bac518>"
      ]
     },
     "metadata": {},
     "output_type": "display_data"
    }
   ],
   "source": [
    "# Participating Customers\n",
    "distributions = bank[response == 1][['age', 'balance', 'duration', 'pdays']].hist( bins = 5, figsize=(15, 5), layout=(1,4))"
   ]
  },
  {
   "cell_type": "code",
   "execution_count": 791,
   "metadata": {},
   "outputs": [],
   "source": [
    "def get_pct_interest( df ):\n",
    "    return 'Interested: {:.2f}'.format( ( df['yes'] / df['no'] ) * 100 )"
   ]
  },
  {
   "cell_type": "code",
   "execution_count": 792,
   "metadata": {},
   "outputs": [
    {
     "data": {
      "text/plain": [
       "no     188\n",
       "yes     29\n",
       "Name: response, dtype: int64"
      ]
     },
     "execution_count": 792,
     "metadata": {},
     "output_type": "execute_result"
    }
   ],
   "source": [
    "balances = bank[(bank['balance'] > 5000) & (bank['balance'] < 10000)]['response'].value_counts()\n",
    "balances"
   ]
  },
  {
   "cell_type": "code",
   "execution_count": 793,
   "metadata": {},
   "outputs": [
    {
     "data": {
      "text/plain": [
       "'Interested: 15.43'"
      ]
     },
     "execution_count": 793,
     "metadata": {},
     "output_type": "execute_result"
    }
   ],
   "source": [
    "get_pct_interest(balances)"
   ]
  },
  {
   "cell_type": "code",
   "execution_count": 794,
   "metadata": {},
   "outputs": [
    {
     "data": {
      "image/png": "[encoded data removed]",
      "text/plain": [
       "<matplotlib.figure.Figure at 0x1faef991240>"
      ]
     },
     "metadata": {},
     "output_type": "display_data"
    }
   ],
   "source": [
    "balances.plot(kind=\"bar\")\n",
    "plt.show()"
   ]
  },
  {
   "cell_type": "code",
   "execution_count": 795,
   "metadata": {},
   "outputs": [
    {
     "data": {
      "text/plain": [
       "no     478\n",
       "yes     43\n",
       "Name: loan, dtype: int64"
      ]
     },
     "execution_count": 795,
     "metadata": {},
     "output_type": "execute_result"
    }
   ],
   "source": [
    "# break-down of loan for targeted customers\n",
    "loans = bank[response == 1]['loan'].value_counts()\n",
    "loans"
   ]
  },
  {
   "cell_type": "code",
   "execution_count": 796,
   "metadata": {},
   "outputs": [
    {
     "data": {
      "text/plain": [
       "'Interested: 9.00'"
      ]
     },
     "execution_count": 796,
     "metadata": {},
     "output_type": "execute_result"
    }
   ],
   "source": [
    "get_pct_interest(loans)"
   ]
  },
  {
   "cell_type": "code",
   "execution_count": 797,
   "metadata": {},
   "outputs": [
    {
     "data": {
      "image/png": "[encoded data removed]",
      "text/plain": [
       "<matplotlib.figure.Figure at 0x1faf03c22b0>"
      ]
     },
     "metadata": {},
     "output_type": "display_data"
    }
   ],
   "source": [
    "loans.plot(kind=\"bar\")\n",
    "plt.show()"
   ]
  },
  {
   "cell_type": "code",
   "execution_count": 798,
   "metadata": {},
   "outputs": [
    {
     "data": {
      "text/plain": [
       "no     512\n",
       "yes      9\n",
       "Name: default, dtype: int64"
      ]
     },
     "execution_count": 798,
     "metadata": {},
     "output_type": "execute_result"
    }
   ],
   "source": [
    "# break-down of default for targeted customers\n",
    "defaults = bank[response == 1]['default'].value_counts()\n",
    "defaults"
   ]
  },
  {
   "cell_type": "code",
   "execution_count": 799,
   "metadata": {},
   "outputs": [
    {
     "data": {
      "text/plain": [
       "'Interested: 1.76'"
      ]
     },
     "execution_count": 799,
     "metadata": {},
     "output_type": "execute_result"
    }
   ],
   "source": [
    "get_pct_interest(defaults)"
   ]
  },
  {
   "cell_type": "code",
   "execution_count": 824,
   "metadata": {},
   "outputs": [
    {
     "data": {
      "image/png": "[encoded data removed]",
      "text/plain": [
       "<matplotlib.figure.Figure at 0x1faef0fbcf8>"
      ]
     },
     "metadata": {},
     "output_type": "display_data"
    }
   ],
   "source": [
    "defaults.plot(kind='bar')\n",
    "plt.show()"
   ]
  },
  {
   "cell_type": "code",
   "execution_count": 801,
   "metadata": {},
   "outputs": [
    {
     "data": {
      "text/html": [
       "<div>\n",
       "<style>\n",
       "    .dataframe thead tr:only-child th {\n",
       "        text-align: right;\n",
       "    }\n",
       "\n",
       "    .dataframe thead th {\n",
       "        text-align: left;\n",
       "    }\n",
       "\n",
       "    .dataframe tbody tr th {\n",
       "        vertical-align: top;\n",
       "    }\n",
       "</style>\n",
       "<table border=\"1\" class=\"dataframe\">\n",
       "  <thead>\n",
       "    <tr style=\"text-align: right;\">\n",
       "      <th></th>\n",
       "      <th>age</th>\n",
       "      <th>job</th>\n",
       "      <th>marital</th>\n",
       "      <th>education</th>\n",
       "      <th>default</th>\n",
       "      <th>balance</th>\n",
       "      <th>housing</th>\n",
       "      <th>loan</th>\n",
       "      <th>contact</th>\n",
       "      <th>day</th>\n",
       "      <th>month</th>\n",
       "      <th>duration</th>\n",
       "      <th>campaign</th>\n",
       "      <th>pdays</th>\n",
       "      <th>previous</th>\n",
       "      <th>poutcome</th>\n",
       "      <th>response</th>\n",
       "      <th>age_group</th>\n",
       "    </tr>\n",
       "  </thead>\n",
       "  <tbody>\n",
       "    <tr>\n",
       "      <th>0</th>\n",
       "      <td>30</td>\n",
       "      <td>unemployed</td>\n",
       "      <td>married</td>\n",
       "      <td>primary</td>\n",
       "      <td>no</td>\n",
       "      <td>1787</td>\n",
       "      <td>no</td>\n",
       "      <td>no</td>\n",
       "      <td>cellular</td>\n",
       "      <td>19</td>\n",
       "      <td>oct</td>\n",
       "      <td>79</td>\n",
       "      <td>1</td>\n",
       "      <td>-1</td>\n",
       "      <td>0</td>\n",
       "      <td>unknown</td>\n",
       "      <td>no</td>\n",
       "      <td>(25.0, 30.0]</td>\n",
       "    </tr>\n",
       "    <tr>\n",
       "      <th>1</th>\n",
       "      <td>33</td>\n",
       "      <td>services</td>\n",
       "      <td>married</td>\n",
       "      <td>secondary</td>\n",
       "      <td>no</td>\n",
       "      <td>4789</td>\n",
       "      <td>yes</td>\n",
       "      <td>yes</td>\n",
       "      <td>cellular</td>\n",
       "      <td>11</td>\n",
       "      <td>may</td>\n",
       "      <td>220</td>\n",
       "      <td>1</td>\n",
       "      <td>339</td>\n",
       "      <td>4</td>\n",
       "      <td>failure</td>\n",
       "      <td>no</td>\n",
       "      <td>(30.0, 35.0]</td>\n",
       "    </tr>\n",
       "    <tr>\n",
       "      <th>2</th>\n",
       "      <td>35</td>\n",
       "      <td>management</td>\n",
       "      <td>single</td>\n",
       "      <td>tertiary</td>\n",
       "      <td>no</td>\n",
       "      <td>1350</td>\n",
       "      <td>yes</td>\n",
       "      <td>no</td>\n",
       "      <td>cellular</td>\n",
       "      <td>16</td>\n",
       "      <td>apr</td>\n",
       "      <td>185</td>\n",
       "      <td>1</td>\n",
       "      <td>330</td>\n",
       "      <td>1</td>\n",
       "      <td>failure</td>\n",
       "      <td>no</td>\n",
       "      <td>(30.0, 35.0]</td>\n",
       "    </tr>\n",
       "    <tr>\n",
       "      <th>3</th>\n",
       "      <td>30</td>\n",
       "      <td>management</td>\n",
       "      <td>married</td>\n",
       "      <td>tertiary</td>\n",
       "      <td>no</td>\n",
       "      <td>1476</td>\n",
       "      <td>yes</td>\n",
       "      <td>yes</td>\n",
       "      <td>unknown</td>\n",
       "      <td>3</td>\n",
       "      <td>jun</td>\n",
       "      <td>199</td>\n",
       "      <td>4</td>\n",
       "      <td>-1</td>\n",
       "      <td>0</td>\n",
       "      <td>unknown</td>\n",
       "      <td>no</td>\n",
       "      <td>(25.0, 30.0]</td>\n",
       "    </tr>\n",
       "    <tr>\n",
       "      <th>4</th>\n",
       "      <td>59</td>\n",
       "      <td>blue-collar</td>\n",
       "      <td>married</td>\n",
       "      <td>secondary</td>\n",
       "      <td>no</td>\n",
       "      <td>0</td>\n",
       "      <td>yes</td>\n",
       "      <td>no</td>\n",
       "      <td>unknown</td>\n",
       "      <td>5</td>\n",
       "      <td>may</td>\n",
       "      <td>226</td>\n",
       "      <td>1</td>\n",
       "      <td>-1</td>\n",
       "      <td>0</td>\n",
       "      <td>unknown</td>\n",
       "      <td>no</td>\n",
       "      <td>(55.0, 60.0]</td>\n",
       "    </tr>\n",
       "  </tbody>\n",
       "</table>\n",
       "</div>"
      ],
      "text/plain": [
       "   age          job  marital  education default  balance housing loan  \\\n",
       "0   30   unemployed  married    primary      no     1787      no   no   \n",
       "1   33     services  married  secondary      no     4789     yes  yes   \n",
       "2   35   management   single   tertiary      no     1350     yes   no   \n",
       "3   30   management  married   tertiary      no     1476     yes  yes   \n",
       "4   59  blue-collar  married  secondary      no        0     yes   no   \n",
       "\n",
       "    contact  day month  duration  campaign  pdays  previous poutcome response  \\\n",
       "0  cellular   19   oct        79         1     -1         0  unknown       no   \n",
       "1  cellular   11   may       220         1    339         4  failure       no   \n",
       "2  cellular   16   apr       185         1    330         1  failure       no   \n",
       "3   unknown    3   jun       199         4     -1         0  unknown       no   \n",
       "4   unknown    5   may       226         1     -1         0  unknown       no   \n",
       "\n",
       "      age_group  \n",
       "0  (25.0, 30.0]  \n",
       "1  (30.0, 35.0]  \n",
       "2  (30.0, 35.0]  \n",
       "3  (25.0, 30.0]  \n",
       "4  (55.0, 60.0]  "
      ]
     },
     "execution_count": 801,
     "metadata": {},
     "output_type": "execute_result"
    }
   ],
   "source": [
    "# Use age distribution to cut into bins\n",
    "bank['age_group'] = pd.cut(bank.age, bins=[g for g in range(20, 90, 5)], include_lowest=True)\n",
    "bank.head()"
   ]
  },
  {
   "cell_type": "code",
   "execution_count": 802,
   "metadata": {},
   "outputs": [
    {
     "data": {
      "text/plain": [
       "<matplotlib.figure.Figure at 0x1faf015a9b0>"
      ]
     },
     "metadata": {},
     "output_type": "display_data"
    },
    {
     "data": {
      "image/png": "[encoded data removed]",
      "text/plain": [
       "<matplotlib.figure.Figure at 0x1faeef27d30>"
      ]
     },
     "metadata": {},
     "output_type": "display_data"
    }
   ],
   "source": [
    "# age classification\n",
    "fig=plt.figure()\n",
    "fig, ax = plt.subplots(figsize=(12,8))\n",
    "sns.countplot(y='response', hue='age_group', data=bank, palette=\"Blues_d\")\n",
    "plt.title('Response by Age Group')\n",
    "plt.show()"
   ]
  },
  {
   "cell_type": "code",
   "execution_count": 803,
   "metadata": {},
   "outputs": [],
   "source": [
    "# Cut balances into 'groups'.\n",
    "balance_intervals = pd.cut(bank.balance, bins=[g for g in range(-5000, 72000, 2500)], include_lowest=True) # bin avg balance by group"
   ]
  },
  {
   "cell_type": "code",
   "execution_count": 804,
   "metadata": {},
   "outputs": [
    {
     "data": {
      "text/plain": [
       "0       (0.0, 2500.0]\n",
       "1    (2500.0, 5000.0]\n",
       "2       (0.0, 2500.0]\n",
       "3       (0.0, 2500.0]\n",
       "4      (-2500.0, 0.0]\n",
       "Name: balance, dtype: category\n",
       "Categories (30, interval[float64]): [(-5000.001, -2500.0] < (-2500.0, 0.0] < (0.0, 2500.0] < (2500.0, 5000.0] ... (60000.0, 62500.0] < (62500.0, 65000.0] < (65000.0, 67500.0] < (67500.0, 70000.0]]"
      ]
     },
     "execution_count": 804,
     "metadata": {},
     "output_type": "execute_result"
    }
   ],
   "source": [
    "balance_intervals.head()"
   ]
  },
  {
   "cell_type": "code",
   "execution_count": 805,
   "metadata": {},
   "outputs": [],
   "source": [
    "# We could potentially use the intervaled balance data transformed into a normalized value (0,1), however,\n",
    "# a regular min/max scaler should perform just as well."
   ]
  },
  {
   "cell_type": "code",
   "execution_count": 806,
   "metadata": {},
   "outputs": [],
   "source": [
    "from sklearn.preprocessing import MinMaxScaler"
   ]
  },
  {
   "cell_type": "code",
   "execution_count": 807,
   "metadata": {},
   "outputs": [],
   "source": [
    "balance_transformed = ( bank.balance / 1.0 ).values.reshape(-1,1)"
   ]
  },
  {
   "cell_type": "code",
   "execution_count": 808,
   "metadata": {},
   "outputs": [],
   "source": [
    "min_max_scaler = MinMaxScaler(feature_range=(0, 1)).fit(balance_transformed)"
   ]
  },
  {
   "cell_type": "code",
   "execution_count": 809,
   "metadata": {},
   "outputs": [],
   "source": [
    "balance_scaled = min_max_scaler.transform(balance_transformed)"
   ]
  },
  {
   "cell_type": "code",
   "execution_count": 810,
   "metadata": {},
   "outputs": [
    {
     "data": {
      "image/png": "[encoded data removed]",
      "text/plain": [
       "<matplotlib.figure.Figure at 0x1faf2afdbe0>"
      ]
     },
     "metadata": {},
     "output_type": "display_data"
    }
   ],
   "source": [
    "mm_scaler_plot = sns.distplot(balance_scaled).set_title('Balance Min/Max Scaler')"
   ]
  },
  {
   "cell_type": "code",
   "execution_count": 811,
   "metadata": {},
   "outputs": [],
   "source": [
    "balance_norm = balance_scaled.flatten()"
   ]
  },
  {
   "cell_type": "code",
   "execution_count": 812,
   "metadata": {},
   "outputs": [
    {
     "data": {
      "text/plain": [
       "(4521,)"
      ]
     },
     "execution_count": 812,
     "metadata": {},
     "output_type": "execute_result"
    }
   ],
   "source": [
    "balance_norm.shape"
   ]
  },
  {
   "cell_type": "code",
   "execution_count": 813,
   "metadata": {},
   "outputs": [
    {
     "data": {
      "text/plain": [
       "(4521,)"
      ]
     },
     "execution_count": 813,
     "metadata": {},
     "output_type": "execute_result"
    }
   ],
   "source": [
    "np.array(loan).shape"
   ]
  },
  {
   "cell_type": "code",
   "execution_count": 814,
   "metadata": {},
   "outputs": [
    {
     "data": {
      "text/plain": [
       "(4521,)"
      ]
     },
     "execution_count": 814,
     "metadata": {},
     "output_type": "execute_result"
    }
   ],
   "source": [
    "np.array(default).shape"
   ]
  },
  {
   "cell_type": "code",
   "execution_count": 825,
   "metadata": {},
   "outputs": [],
   "source": [
    "# Prepare Data for Model\n",
    "# Let's remove default, as this will simplifiy our model and it seems to have little impact on client interest.\n",
    "model_data = np.array( [ np.array(housing), np.array(loan), np.array(balance_norm), np.array(response)]).T"
   ]
  },
  {
   "cell_type": "code",
   "execution_count": 826,
   "metadata": {},
   "outputs": [
    {
     "data": {
      "text/plain": [
       "array([[ 0.        ,  1.        ,  0.        , ...,  0.        ,\n",
       "         0.        ,  1.        ],\n",
       "       [ 0.06845546,  0.10875022,  0.06258976, ...,  0.04842888,\n",
       "         0.05973074,  0.05971732]])"
      ]
     },
     "execution_count": 826,
     "metadata": {},
     "output_type": "execute_result"
    }
   ],
   "source": [
    "np.array( [np.array(loan), np.array(balance_norm) ])"
   ]
  },
  {
   "cell_type": "code",
   "execution_count": 827,
   "metadata": {},
   "outputs": [],
   "source": [
    "assert len(bank) == len(model_data) # Ensure we have the same number of observations."
   ]
  },
  {
   "cell_type": "code",
   "execution_count": 828,
   "metadata": {},
   "outputs": [
    {
     "data": {
      "text/plain": [
       "(4521, 4)"
      ]
     },
     "execution_count": 828,
     "metadata": {},
     "output_type": "execute_result"
    }
   ],
   "source": [
    "model_data.shape"
   ]
  },
  {
   "cell_type": "code",
   "execution_count": 829,
   "metadata": {
    "collapsed": true
   },
   "outputs": [],
   "source": [
    "# cross-validation scoring code adapted from Scikit Learn documentation\n",
    "from sklearn.metrics import roc_auc_score"
   ]
  },
  {
   "cell_type": "code",
   "execution_count": 830,
   "metadata": {
    "collapsed": true
   },
   "outputs": [
    {
     "name": "stdout",
     "output_type": "stream",
     "text": [
      "\n",
      "Data dimensions: (4521, 4)\n"
     ]
    }
   ],
   "source": [
    "# specify the set of classifiers being evaluated\n",
    "from sklearn.naive_bayes import BernoulliNB\n",
    "from sklearn.linear_model import LogisticRegression\n",
    "\n",
    "classifier_names = [\"Naive_Bayes\", \"Logistic_Regression\"]\n",
    "\n",
    "classifiers = [BernoulliNB(alpha=1.0, binarize=0.5, \n",
    "                           class_prior = [0.5, 0.5], fit_prior=False), \n",
    "               LogisticRegression(solver = 'lbfgs')]\n",
    "\n",
    "# dimensions of the additive model X input and y response\n",
    "print('\\nData dimensions:', model_data.shape)"
   ]
  },
  {
   "cell_type": "code",
   "execution_count": 831,
   "metadata": {},
   "outputs": [],
   "source": [
    "# --------------------------------------------------------\n",
    "# specify the k-fold cross-validation design\n",
    "from sklearn.model_selection import KFold"
   ]
  },
  {
   "cell_type": "code",
   "execution_count": 832,
   "metadata": {},
   "outputs": [],
   "source": [
    "# ten-fold cross-validation employed here\n",
    "N_FOLDS = 10\n",
    "\n",
    "# set up numpy array for storing results\n",
    "cv_results = np.zeros((N_FOLDS, len(classifier_names)))"
   ]
  },
  {
   "cell_type": "code",
   "execution_count": 847,
   "metadata": {},
   "outputs": [
    {
     "name": "stdout",
     "output_type": "stream",
     "text": [
      "\n",
      "Fold index: 0 ------------------------------------------\n",
      "\n",
      "Shape of input data for this fold: \n",
      "Data Set: (Observations, Variables)\n",
      "X_train: (4068, 3)\n",
      "X_test: (453, 3)\n",
      "y_train: (4068,)\n",
      "y_test: (453,)\n",
      "\n",
      "Classifier evaluation for: Naive_Bayes\n",
      "  Scikit Learn method: BernoulliNB(alpha=1.0, binarize=0.5, class_prior=[0.5, 0.5], fit_prior=False)\n",
      "Area under ROC curve: 0.588184476342\n",
      "\n",
      "Classifier evaluation for: Logistic_Regression\n",
      "  Scikit Learn method: LogisticRegression(C=1.0, class_weight=None, dual=False, fit_intercept=True,\n",
      "          intercept_scaling=1, max_iter=100, multi_class='warn',\n",
      "          n_jobs=None, penalty='l2', random_state=None, solver='lbfgs',\n",
      "          tol=0.0001, verbose=0, warm_start=False)\n",
      "Area under ROC curve: 0.608674463938\n",
      "\n",
      "Fold index: 1 ------------------------------------------\n",
      "\n",
      "Shape of input data for this fold: \n",
      "Data Set: (Observations, Variables)\n",
      "X_train: (4069, 3)\n",
      "X_test: (452, 3)\n",
      "y_train: (4069,)\n",
      "y_test: (452,)\n",
      "\n",
      "Classifier evaluation for: Naive_Bayes\n",
      "  Scikit Learn method: BernoulliNB(alpha=1.0, binarize=0.5, class_prior=[0.5, 0.5], fit_prior=False)\n",
      "Area under ROC curve: 0.62770400514\n",
      "\n",
      "Classifier evaluation for: Logistic_Regression\n",
      "  Scikit Learn method: LogisticRegression(C=1.0, class_weight=None, dual=False, fit_intercept=True,\n",
      "          intercept_scaling=1, max_iter=100, multi_class='warn',\n",
      "          n_jobs=None, penalty='l2', random_state=None, solver='lbfgs',\n",
      "          tol=0.0001, verbose=0, warm_start=False)\n",
      "Area under ROC curve: 0.679401370743\n",
      "\n",
      "Fold index: 2 ------------------------------------------\n",
      "\n",
      "Shape of input data for this fold: \n",
      "Data Set: (Observations, Variables)\n",
      "X_train: (4069, 3)\n",
      "X_test: (452, 3)\n",
      "y_train: (4069,)\n",
      "y_test: (452,)\n",
      "\n",
      "Classifier evaluation for: Naive_Bayes\n",
      "  Scikit Learn method: BernoulliNB(alpha=1.0, binarize=0.5, class_prior=[0.5, 0.5], fit_prior=False)\n",
      "Area under ROC curve: 0.658716961316\n",
      "\n",
      "Classifier evaluation for: Logistic_Regression\n",
      "  Scikit Learn method: LogisticRegression(C=1.0, class_weight=None, dual=False, fit_intercept=True,\n",
      "          intercept_scaling=1, max_iter=100, multi_class='warn',\n",
      "          n_jobs=None, penalty='l2', random_state=None, solver='lbfgs',\n",
      "          tol=0.0001, verbose=0, warm_start=False)\n",
      "Area under ROC curve: 0.693834237703\n",
      "\n",
      "Fold index: 3 ------------------------------------------\n",
      "\n",
      "Shape of input data for this fold: \n",
      "Data Set: (Observations, Variables)\n",
      "X_train: (4069, 3)\n",
      "X_test: (452, 3)\n",
      "y_train: (4069,)\n",
      "y_test: (452,)\n",
      "\n",
      "Classifier evaluation for: Naive_Bayes\n",
      "  Scikit Learn method: BernoulliNB(alpha=1.0, binarize=0.5, class_prior=[0.5, 0.5], fit_prior=False)\n",
      "Area under ROC curve: 0.635868739555\n",
      "\n",
      "Classifier evaluation for: Logistic_Regression\n",
      "  Scikit Learn method: LogisticRegression(C=1.0, class_weight=None, dual=False, fit_intercept=True,\n",
      "          intercept_scaling=1, max_iter=100, multi_class='warn',\n",
      "          n_jobs=None, penalty='l2', random_state=None, solver='lbfgs',\n",
      "          tol=0.0001, verbose=0, warm_start=False)\n",
      "Area under ROC curve: 0.642654580443\n",
      "\n",
      "Fold index: 4 ------------------------------------------\n",
      "\n",
      "Shape of input data for this fold: \n",
      "Data Set: (Observations, Variables)\n",
      "X_train: (4069, 3)\n",
      "X_test: (452, 3)\n",
      "y_train: (4069,)\n",
      "y_test: (452,)\n",
      "\n",
      "Classifier evaluation for: Naive_Bayes\n",
      "  Scikit Learn method: BernoulliNB(alpha=1.0, binarize=0.5, class_prior=[0.5, 0.5], fit_prior=False)\n",
      "Area under ROC curve: 0.574147834472\n",
      "\n",
      "Classifier evaluation for: Logistic_Regression\n",
      "  Scikit Learn method: LogisticRegression(C=1.0, class_weight=None, dual=False, fit_intercept=True,\n",
      "          intercept_scaling=1, max_iter=100, multi_class='warn',\n",
      "          n_jobs=None, penalty='l2', random_state=None, solver='lbfgs',\n",
      "          tol=0.0001, verbose=0, warm_start=False)\n",
      "Area under ROC curve: 0.600771456123\n",
      "\n",
      "Fold index: 5 ------------------------------------------\n",
      "\n",
      "Shape of input data for this fold: \n",
      "Data Set: (Observations, Variables)\n",
      "X_train: (4069, 3)\n",
      "X_test: (452, 3)\n",
      "y_train: (4069,)\n",
      "y_test: (452,)\n",
      "\n",
      "Classifier evaluation for: Naive_Bayes\n",
      "  Scikit Learn method: BernoulliNB(alpha=1.0, binarize=0.5, class_prior=[0.5, 0.5], fit_prior=False)\n",
      "Area under ROC curve: 0.575841196368\n",
      "\n",
      "Classifier evaluation for: Logistic_Regression\n",
      "  Scikit Learn method: LogisticRegression(C=1.0, class_weight=None, dual=False, fit_intercept=True,\n",
      "          intercept_scaling=1, max_iter=100, multi_class='warn',\n",
      "          n_jobs=None, penalty='l2', random_state=None, solver='lbfgs',\n",
      "          tol=0.0001, verbose=0, warm_start=False)\n",
      "Area under ROC curve: 0.610972642573\n",
      "\n",
      "Fold index: 6 ------------------------------------------\n",
      "\n",
      "Shape of input data for this fold: \n",
      "Data Set: (Observations, Variables)\n",
      "X_train: (4069, 3)\n",
      "X_test: (452, 3)\n",
      "y_train: (4069,)\n",
      "y_test: (452,)\n",
      "\n",
      "Classifier evaluation for: Naive_Bayes\n",
      "  Scikit Learn method: BernoulliNB(alpha=1.0, binarize=0.5, class_prior=[0.5, 0.5], fit_prior=False)\n",
      "Area under ROC curve: 0.565442955518\n",
      "\n",
      "Classifier evaluation for: Logistic_Regression\n",
      "  Scikit Learn method: LogisticRegression(C=1.0, class_weight=None, dual=False, fit_intercept=True,\n",
      "          intercept_scaling=1, max_iter=100, multi_class='warn',\n",
      "          n_jobs=None, penalty='l2', random_state=None, solver='lbfgs',\n",
      "          tol=0.0001, verbose=0, warm_start=False)\n",
      "Area under ROC curve: 0.612623301694\n",
      "\n",
      "Fold index: 7 ------------------------------------------\n",
      "\n",
      "Shape of input data for this fold: \n",
      "Data Set: (Observations, Variables)\n",
      "X_train: (4069, 3)\n",
      "X_test: (452, 3)\n",
      "y_train: (4069,)\n",
      "y_test: (452,)\n",
      "\n",
      "Classifier evaluation for: Naive_Bayes\n",
      "  Scikit Learn method: BernoulliNB(alpha=1.0, binarize=0.5, class_prior=[0.5, 0.5], fit_prior=False)\n",
      "Area under ROC curve: 0.729779411765\n",
      "\n",
      "Classifier evaluation for: Logistic_Regression\n",
      "  Scikit Learn method: LogisticRegression(C=1.0, class_weight=None, dual=False, fit_intercept=True,\n",
      "          intercept_scaling=1, max_iter=100, multi_class='warn',\n",
      "          n_jobs=None, penalty='l2', random_state=None, solver='lbfgs',\n",
      "          tol=0.0001, verbose=0, warm_start=False)\n",
      "Area under ROC curve: 0.766182040998\n",
      "\n",
      "Fold index: 8 ------------------------------------------\n",
      "\n",
      "Shape of input data for this fold: \n",
      "Data Set: (Observations, Variables)\n",
      "X_train: (4069, 3)\n",
      "X_test: (452, 3)\n",
      "y_train: (4069,)\n",
      "y_test: (452,)\n",
      "\n",
      "Classifier evaluation for: Naive_Bayes\n",
      "  Scikit Learn method: BernoulliNB(alpha=1.0, binarize=0.5, class_prior=[0.5, 0.5], fit_prior=False)\n",
      "Area under ROC curve: 0.568142053246\n",
      "\n",
      "Classifier evaluation for: Logistic_Regression\n",
      "  Scikit Learn method: LogisticRegression(C=1.0, class_weight=None, dual=False, fit_intercept=True,\n",
      "          intercept_scaling=1, max_iter=100, multi_class='warn',\n",
      "          n_jobs=None, penalty='l2', random_state=None, solver='lbfgs',\n",
      "          tol=0.0001, verbose=0, warm_start=False)\n",
      "Area under ROC curve: 0.569182389937\n",
      "\n",
      "Fold index: 9 ------------------------------------------\n",
      "\n",
      "Shape of input data for this fold: \n",
      "Data Set: (Observations, Variables)\n",
      "X_train: (4069, 3)\n",
      "X_test: (452, 3)\n",
      "y_train: (4069,)\n",
      "y_test: (452,)\n",
      "\n",
      "Classifier evaluation for: Naive_Bayes\n",
      "  Scikit Learn method: BernoulliNB(alpha=1.0, binarize=0.5, class_prior=[0.5, 0.5], fit_prior=False)\n",
      "Area under ROC curve: 0.574873096447\n",
      "\n",
      "Classifier evaluation for: Logistic_Regression\n",
      "  Scikit Learn method: LogisticRegression(C=1.0, class_weight=None, dual=False, fit_intercept=True,\n",
      "          intercept_scaling=1, max_iter=100, multi_class='warn',\n",
      "          n_jobs=None, penalty='l2', random_state=None, solver='lbfgs',\n",
      "          tol=0.0001, verbose=0, warm_start=False)\n",
      "Area under ROC curve: 0.568462279013\n",
      "\n",
      "----------------------------------------------\n",
      "Average results from 10-fold cross-validation\n",
      "\n",
      "Method                 Area under ROC Curve\n",
      "Naive_Bayes           0.609870\n",
      "Logistic_Regression   0.635276\n",
      "dtype: float64\n"
     ]
    }
   ],
   "source": [
    "kf = KFold(n_splits = N_FOLDS, shuffle=False, random_state = RANDOM_SEED)\n",
    "\n",
    "# check the splitting process by looking at fold observation counts\n",
    "index_for_fold = 0  # fold count initialized\n",
    "\n",
    "for train_index, test_index in kf.split(model_data):\n",
    "    print('\\nFold index:', index_for_fold,\n",
    "          '------------------------------------------')\n",
    "#   note that 0:model_data.shape[1]-1 slices for explanatory variables\n",
    "#   and model_data.shape[1]-1 is the index for the response variable    \n",
    "    X_train = model_data[train_index, 0:model_data.shape[1]-1]\n",
    "    X_test = model_data[test_index, 0:model_data.shape[1]-1]\n",
    "    y_train = model_data[train_index, model_data.shape[1]-1]\n",
    "    y_test = model_data[test_index, model_data.shape[1]-1]   \n",
    "\n",
    "    print('\\nShape of input data for this fold:',\n",
    "          '\\nData Set: (Observations, Variables)')\n",
    "    print('X_train:', X_train.shape)\n",
    "    print('X_test:',X_test.shape)\n",
    "    print('y_train:', y_train.shape)\n",
    "    print('y_test:',y_test.shape)\n",
    "\n",
    "    index_for_method = 0  # initialize\n",
    "    for name, clf in zip(classifier_names, classifiers):\n",
    "        print('\\nClassifier evaluation for:', name)\n",
    "        print('  Scikit Learn method:', clf)\n",
    "        clf.fit(X_train, y_train)  # fit on the train set for this fold\n",
    "        # evaluate on the test set for this fold\n",
    "        y_test_predict = clf.predict_proba(X_test)\n",
    "        fold_method_result = roc_auc_score(y_test, y_test_predict[:,1]) \n",
    "        print('Area under ROC curve:', fold_method_result)\n",
    "        cv_results[index_for_fold, index_for_method] = fold_method_result\n",
    "        index_for_method += 1\n",
    "  \n",
    "    index_for_fold += 1\n",
    "\n",
    "cv_results_df = pd.DataFrame(cv_results)\n",
    "cv_results_df.columns = classifier_names\n",
    "\n",
    "print('\\n----------------------------------------------')\n",
    "print('Average results from ', N_FOLDS, '-fold cross-validation\\n',\n",
    "      '\\nMethod                 Area under ROC Curve', sep = '')     \n",
    "print(cv_results_df.mean())"
   ]
  },
  {
   "cell_type": "code",
   "execution_count": 834,
   "metadata": {},
   "outputs": [],
   "source": [
    "# Save the cross-validation results.\n",
    "cv_results_df = pd.DataFrame(cv_results)\n",
    "cv_results_df.columns = classifier_names\n",
    "with open(\"cv-results.txt\", \"w\") as text_file:\n",
    "    text_file.write('\\nResults from '+ str(N_FOLDS) + '-fold cross-validation\\n'+\n",
    "                     '\\nMethod Area under ROC Curve:\\n'+ \n",
    "                     str(cv_results_df))"
   ]
  },
  {
   "cell_type": "code",
   "execution_count": 835,
   "metadata": {},
   "outputs": [
    {
     "data": {
      "text/plain": [
       "Naive_Bayes           0.609870\n",
       "Logistic_Regression   0.635276\n",
       "dtype: float64"
      ]
     },
     "execution_count": 835,
     "metadata": {},
     "output_type": "execute_result"
    }
   ],
   "source": [
    "pd.options.display.float_format = '{:,.6f}'.format\n",
    "cv_results_df.mean() # same as the results in the display above"
   ]
  },
  {
   "cell_type": "code",
   "execution_count": 836,
   "metadata": {},
   "outputs": [],
   "source": [
    "# --------------------------------------------------------\n",
    "# Select method and apply to specific test cases\n",
    "# --------------------------------------------------------\n",
    "my_default = np.array([1, 1, 1, 1, 0, 0, 0, 0], np.int32)\n",
    "my_housing = np.array([1, 1, 0, 0, 1, 1, 0, 0], np.int32)\n",
    "my_loan = np.array([1, 0, 1, 0, 1, 0, 1, 0], np.int32)\n",
    "my_balance = np.array([0.711511285478781, 0.0021481256355315725, 0.6445270302627165, 0.4290191027692939, 0.9745602622830137, 0.22044449870397131, 0.9525469584778188, 0.5836707211569383], np.float64)"
   ]
  },
  {
   "cell_type": "code",
   "execution_count": 840,
   "metadata": {},
   "outputs": [],
   "source": [
    "my_X_test = np.vstack([ my_housing, my_loan, my_balance]).T"
   ]
  },
  {
   "cell_type": "code",
   "execution_count": 841,
   "metadata": {},
   "outputs": [
    {
     "data": {
      "text/plain": [
       "LogisticRegression(C=1.0, class_weight=None, dual=False, fit_intercept=True,\n",
       "          intercept_scaling=1, max_iter=100, multi_class='warn',\n",
       "          n_jobs=None, penalty='l2', random_state=None, solver='lbfgs',\n",
       "          tol=0.0001, verbose=0, warm_start=False)"
      ]
     },
     "execution_count": 841,
     "metadata": {},
     "output_type": "execute_result"
    }
   ],
   "source": [
    "# fit logistic regression to full data set\n",
    "clf = LogisticRegression( solver = 'lbfgs')\n",
    "X_train = model_data[:, 0:model_data.shape[1]-1]\n",
    "y_train = model_data[:, model_data.shape[1]-1]\n",
    "clf.fit(X_train, y_train)"
   ]
  },
  {
   "cell_type": "code",
   "execution_count": 842,
   "metadata": {},
   "outputs": [],
   "source": [
    "# predict specific test cases\n",
    "y_my_test_predict = clf.predict_proba(my_X_test)"
   ]
  },
  {
   "cell_type": "code",
   "execution_count": 843,
   "metadata": {},
   "outputs": [
    {
     "data": {
      "text/plain": [
       "array([-2.84598588, -2.28542119, -2.21818891, -1.53770368, -2.78211094,\n",
       "       -2.23241331, -2.14339388, -1.50015036])"
      ]
     },
     "execution_count": 843,
     "metadata": {},
     "output_type": "execute_result"
    }
   ],
   "source": [
    "y_scores = clf.decision_function(my_X_test)\n",
    "y_scores"
   ]
  },
  {
   "cell_type": "code",
   "execution_count": 846,
   "metadata": {},
   "outputs": [
    {
     "name": "stdout",
     "output_type": "stream",
     "text": [
      "\n",
      "\n",
      "Logistic regression model predictions for test cases:\n",
      "   housing     loan  balance  predict_NO  predict_YES\n",
      "0 1.000000 1.000000 0.711511    0.945111     0.054889\n",
      "1 1.000000 0.000000 0.002148    0.907662     0.092338\n",
      "2 0.000000 1.000000 0.644527    0.901871     0.098129\n",
      "3 0.000000 0.000000 0.429019    0.823131     0.176869\n",
      "4 1.000000 1.000000 0.974560    0.941701     0.058299\n",
      "5 1.000000 0.000000 0.220444    0.903123     0.096877\n",
      "6 0.000000 1.000000 0.952547    0.895050     0.104950\n",
      "7 0.000000 0.000000 0.583671    0.817597     0.182403\n"
     ]
    }
   ],
   "source": [
    "# create DataFrame for displaying test cases and predicted probabilities\n",
    "my_targeting_df = pd.DataFrame(np.hstack([my_X_test, y_my_test_predict]))\n",
    "my_targeting_df.columns = ['housing', 'loan', 'balance',\n",
    "                           'predict_NO', 'predict_YES']\n",
    "print('\\n\\nLogistic regression model predictions for test cases:')\n",
    "print(my_targeting_df)"
   ]
  },
  {
   "cell_type": "code",
   "execution_count": null,
   "metadata": {},
   "outputs": [],
   "source": []
  }
 ],
 "metadata": {
  "kernelspec": {
   "display_name": "Python 3",
   "language": "python",
   "name": "python3"
  },
  "language_info": {
   "codemirror_mode": {
    "name": "ipython",
    "version": 3
   },
   "file_extension": ".py",
   "mimetype": "text/x-python",
   "name": "python",
   "nbconvert_exporter": "python",
   "pygments_lexer": "ipython3",
   "version": "3.6.2"
  }
 },
 "nbformat": 4,
 "nbformat_minor": 2
}
