{
  "nbformat": 4,
  "nbformat_minor": 0,
  "metadata": {
    "colab": {
      "name": "ch_08.ipynb",
      "version": "0.3.2",
      "provenance": [],
      "toc_visible": true,
      "include_colab_link": true
    },
    "kernelspec": {
      "display_name": "Python 3",
      "language": "python",
      "name": "python3"
    }
  },
  "cells": [
    {
      "cell_type": "markdown",
      "metadata": {
        "id": "view-in-github",
        "colab_type": "text"
      },
      "source": [
        "<a href=\"https://colab.research.google.com/github/bmoretz/Notebooks/blob/master/Hands-OnMachineLearning/ch_08.ipynb\" target=\"_parent\"><img src=\"https://colab.research.google.com/assets/colab-badge.svg\" alt=\"Open In Colab\"/></a>"
      ]
    },
    {
      "metadata": {
        "colab_type": "text",
        "id": "tv8yt0S0OtN6"
      },
      "cell_type": "markdown",
      "source": [
        "# Setup"
      ]
    },
    {
      "metadata": {
        "colab_type": "code",
        "id": "52X5ktaBDx7i",
        "colab": {}
      },
      "cell_type": "code",
      "source": [
        "# To support both python 2 and python 3\n",
        "from __future__ import division, print_function, unicode_literals\n",
        "\n",
        "# Common imports\n",
        "import numpy as np\n",
        "import os\n",
        "\n",
        "# to make this notebook's output stable across runs\n",
        "np.random.seed(42)\n",
        "\n",
        "# To plot pretty figures\n",
        "%matplotlib inline\n",
        "import matplotlib\n",
        "import matplotlib.pyplot as plt\n",
        "plt.rcParams['axes.labelsize'] = 14\n",
        "plt.rcParams['xtick.labelsize'] = 12\n",
        "plt.rcParams['ytick.labelsize'] = 12\n",
        "\n",
        "# Where to save the figures\n",
        "PROJECT_ROOT_DIR = \".\"\n",
        "CHAPTER_ID = \"unsupervised_learning\"\n",
        "\n",
        "def save_fig(fig_id, tight_layout=True):\n",
        "    path = os.path.join(PROJECT_ROOT_DIR, \"images\", CHAPTER_ID, fig_id + \".png\")\n",
        "    print(\"Saving figure\", fig_id)\n",
        "    if tight_layout:\n",
        "        plt.tight_layout()\n",
        "    plt.savefig(path, format='png', dpi=300)\n",
        "\n",
        "# Ignore useless warnings (see SciPy issue #5998)\n",
        "import warnings\n",
        "warnings.filterwarnings(action=\"ignore\", module=\"scipy\", message=\"^internal gelsd\")"
      ],
      "execution_count": 0,
      "outputs": []
    },
    {
      "metadata": {
        "colab_type": "text",
        "id": "hfTgK0msOw8H"
      },
      "cell_type": "markdown",
      "source": [
        "# Projection Methods"
      ]
    },
    {
      "metadata": {
        "colab_type": "text",
        "id": "MjdNsUoYPhwt"
      },
      "cell_type": "markdown",
      "source": [
        "`Build 3D dataset`"
      ]
    },
    {
      "metadata": {
        "colab_type": "code",
        "id": "ALjoEK_hOvv3",
        "colab": {}
      },
      "cell_type": "code",
      "source": [
        "np.random.seed(4)\n",
        "m = 60\n",
        "w1, w2 = 0.1, 0.3\n",
        "noise = 0.1\n",
        "\n",
        "angles = np.random.rand(m) * 3 * np.pi / 2 - 0.5\n",
        "X = np.empty((m, 3))\n",
        "X[:, 0] = np.cos(angles) + np.sin(angles) / 2 + noise * np.random.randn(m) / 2\n",
        "X[:, 1] = np.sin(angles) * 0.7 + noise * np.random.randn(m) / 2\n",
        "X[:, 2] = X[:, 0] * w1 + X[:, 1] * w2 + noise * np.random.randn(m)"
      ],
      "execution_count": 0,
      "outputs": []
    },
    {
      "metadata": {
        "colab_type": "text",
        "id": "6smi99syPkkY"
      },
      "cell_type": "markdown",
      "source": [
        "# PCA using SVD decomposition"
      ]
    },
    {
      "metadata": {
        "colab_type": "text",
        "id": "q-l9x63-PvZd"
      },
      "cell_type": "markdown",
      "source": [
        "Note: the svd() function returns U, s and Vt, where Vt is equal to $\\mathbf{V}^T$, the transpose of the matrix $\\mathbf{V}$. Earlier versions of the book mistakenly said that it returned V instead of Vt. Also, Equation 8-1 should actually contain $\\mathbf{V}$ instead of $\\mathbf{V}^T$, like this:\n",
        "\n",
        "$\n",
        "\\mathbf{V} =\n",
        "\\begin{pmatrix}\n",
        "  \\mid &\\mid && \\mid \\\\\n",
        "  \\mathbf{c_1} & \\mathbf{c_2} & \\cdots & \\mathbf{c_n} \\\\\n",
        "  \\mid & \\mid & & \\mid\n",
        "\\end{pmatrix}\n",
        "$"
      ]
    },
    {
      "metadata": {
        "colab_type": "code",
        "id": "EVFMqlWbO3xB",
        "colab": {}
      },
      "cell_type": "code",
      "source": [
        "X_centered = X - X.mean(axis=0)\n",
        "U, s, Vt = np.linalg.svd(X_centered)\n",
        "c1 = Vt.T[:, 0]\n",
        "c2 = Vt.T[:, 1]"
      ],
      "execution_count": 0,
      "outputs": []
    },
    {
      "metadata": {
        "colab_type": "code",
        "id": "TKPbk8X2QM3y",
        "colab": {}
      },
      "cell_type": "code",
      "source": [
        "m, n = X.shape\n",
        "\n",
        "S = np.zeros(X_centered.shape)\n",
        "S[:n, :n] = np.diag(s)"
      ],
      "execution_count": 0,
      "outputs": []
    },
    {
      "metadata": {
        "colab_type": "code",
        "id": "P5br5pD8Qdjg",
        "outputId": "7993bd6d-844c-4c3f-8071-0a51e630fbad",
        "colab": {
          "base_uri": "https://localhost:8080/",
          "height": 34
        }
      },
      "cell_type": "code",
      "source": [
        "np.allclose(X_centered, U.dot(S).dot(Vt))"
      ],
      "execution_count": 40,
      "outputs": [
        {
          "output_type": "execute_result",
          "data": {
            "text/plain": [
              "True"
            ]
          },
          "metadata": {
            "tags": []
          },
          "execution_count": 40
        }
      ]
    },
    {
      "metadata": {
        "colab_type": "code",
        "id": "xHxfPpr8QiEO",
        "colab": {}
      },
      "cell_type": "code",
      "source": [
        "W2 = Vt.T[:,:2]\n",
        "X2D = X_centered.dot(W2)"
      ],
      "execution_count": 0,
      "outputs": []
    },
    {
      "metadata": {
        "colab_type": "code",
        "id": "60Rj_nUqQoyx",
        "colab": {}
      },
      "cell_type": "code",
      "source": [
        "X2D_using_svd = X2D"
      ],
      "execution_count": 0,
      "outputs": []
    },
    {
      "metadata": {
        "id": "N-wpYS1uGaHC",
        "colab_type": "text"
      },
      "cell_type": "markdown",
      "source": [
        "# PCA using Scikit-Learn"
      ]
    },
    {
      "metadata": {
        "id": "pfRhoEbtGdT6",
        "colab_type": "code",
        "colab": {}
      },
      "cell_type": "code",
      "source": [
        "from sklearn.decomposition import PCA"
      ],
      "execution_count": 0,
      "outputs": []
    },
    {
      "metadata": {
        "id": "sSDorNgLGqpJ",
        "colab_type": "code",
        "colab": {}
      },
      "cell_type": "code",
      "source": [
        "pca = PCA(n_components =2)\n",
        "X2D = pca.fit_transform(X)"
      ],
      "execution_count": 0,
      "outputs": []
    },
    {
      "metadata": {
        "id": "hb36w3bfGvHl",
        "colab_type": "code",
        "colab": {
          "base_uri": "https://localhost:8080/",
          "height": 34
        },
        "outputId": "1e5c89aa-3f64-4aab-a30b-90f64e70c9fb"
      },
      "cell_type": "code",
      "source": [
        "pca.components_.T[:, 0]"
      ],
      "execution_count": 45,
      "outputs": [
        {
          "output_type": "execute_result",
          "data": {
            "text/plain": [
              "array([-0.93636116, -0.29854881, -0.18465208])"
            ]
          },
          "metadata": {
            "tags": []
          },
          "execution_count": 45
        }
      ]
    },
    {
      "metadata": {
        "id": "pwMkE5ygG1yO",
        "colab_type": "code",
        "colab": {
          "base_uri": "https://localhost:8080/",
          "height": 102
        },
        "outputId": "47dedc36-28df-423a-d76a-f36a5e6ae5f4"
      },
      "cell_type": "code",
      "source": [
        "X2D[:5]"
      ],
      "execution_count": 46,
      "outputs": [
        {
          "output_type": "execute_result",
          "data": {
            "text/plain": [
              "array([[ 1.26203346,  0.42067648],\n",
              "       [-0.08001485, -0.35272239],\n",
              "       [ 1.17545763,  0.36085729],\n",
              "       [ 0.89305601, -0.30862856],\n",
              "       [ 0.73016287, -0.25404049]])"
            ]
          },
          "metadata": {
            "tags": []
          },
          "execution_count": 46
        }
      ]
    },
    {
      "metadata": {
        "id": "0wu2kIbMHH1a",
        "colab_type": "code",
        "colab": {
          "base_uri": "https://localhost:8080/",
          "height": 102
        },
        "outputId": "3de97652-aad2-449a-d510-52d60cef1c3f"
      },
      "cell_type": "code",
      "source": [
        "X2D_using_svd[:5]"
      ],
      "execution_count": 47,
      "outputs": [
        {
          "output_type": "execute_result",
          "data": {
            "text/plain": [
              "array([[-1.26203346, -0.42067648],\n",
              "       [ 0.08001485,  0.35272239],\n",
              "       [-1.17545763, -0.36085729],\n",
              "       [-0.89305601,  0.30862856],\n",
              "       [-0.73016287,  0.25404049]])"
            ]
          },
          "metadata": {
            "tags": []
          },
          "execution_count": 47
        }
      ]
    },
    {
      "metadata": {
        "id": "ECpvkXDdIQwQ",
        "colab_type": "text"
      },
      "cell_type": "markdown",
      "source": [
        "Notice that running PCA multiple times on slightly different datasets may result in different results. In general the only difference is that some axes may be flipped. In this example, PCA using Scikit-Learn gives the same projection as the one given by the SVD approach, except both axes are flipped:"
      ]
    },
    {
      "metadata": {
        "id": "NQ5mFtaZHL2C",
        "colab_type": "code",
        "colab": {
          "base_uri": "https://localhost:8080/",
          "height": 34
        },
        "outputId": "72a26b4f-9065-403c-d40f-735f6a2bd57a"
      },
      "cell_type": "code",
      "source": [
        "np.allclose(X2D, -X2D_using_svd)"
      ],
      "execution_count": 48,
      "outputs": [
        {
          "output_type": "execute_result",
          "data": {
            "text/plain": [
              "True"
            ]
          },
          "metadata": {
            "tags": []
          },
          "execution_count": 48
        }
      ]
    },
    {
      "metadata": {
        "id": "Ug1dp-P2HY0T",
        "colab_type": "code",
        "colab": {}
      },
      "cell_type": "code",
      "source": [
        "X3D_inv = pca.inverse_transform(X2D)"
      ],
      "execution_count": 0,
      "outputs": []
    },
    {
      "metadata": {
        "id": "OQsAUB2TIMt6",
        "colab_type": "text"
      },
      "cell_type": "markdown",
      "source": [
        "Recover the 3D points projected on the plane (PCA 2D subspace)."
      ]
    },
    {
      "metadata": {
        "id": "LRmLmeP9H9fp",
        "colab_type": "code",
        "colab": {
          "base_uri": "https://localhost:8080/",
          "height": 34
        },
        "outputId": "e2dfb0ef-7528-4a0f-abf0-a07fb5e28f93"
      },
      "cell_type": "code",
      "source": [
        "np.allclose(X3D_inv, X)"
      ],
      "execution_count": 50,
      "outputs": [
        {
          "output_type": "execute_result",
          "data": {
            "text/plain": [
              "False"
            ]
          },
          "metadata": {
            "tags": []
          },
          "execution_count": 50
        }
      ]
    },
    {
      "metadata": {
        "id": "IDrAs_pHIj0M",
        "colab_type": "text"
      },
      "cell_type": "markdown",
      "source": [
        "We can compute the reconstruction error:"
      ]
    },
    {
      "metadata": {
        "id": "3YFhXpaxHeAu",
        "colab_type": "code",
        "colab": {
          "base_uri": "https://localhost:8080/",
          "height": 34
        },
        "outputId": "eb9cf013-c07f-4a66-dfd0-6521c17bf053"
      },
      "cell_type": "code",
      "source": [
        "np.mean(np.sum(np.square(X3D_inv - X), axis = 1))"
      ],
      "execution_count": 51,
      "outputs": [
        {
          "output_type": "execute_result",
          "data": {
            "text/plain": [
              "0.010170337792848549"
            ]
          },
          "metadata": {
            "tags": []
          },
          "execution_count": 51
        }
      ]
    },
    {
      "metadata": {
        "id": "az2K_wJBInZ5",
        "colab_type": "text"
      },
      "cell_type": "markdown",
      "source": [
        "The inverse transform in the SVD approach looks like this:"
      ]
    },
    {
      "metadata": {
        "id": "SidbKm6rHmer",
        "colab_type": "code",
        "colab": {}
      },
      "cell_type": "code",
      "source": [
        "X3D_inv_using_svd = X2D_using_svd.dot(Vt[:2, :])"
      ],
      "execution_count": 0,
      "outputs": []
    },
    {
      "metadata": {
        "id": "uYz0p1CfIr5H",
        "colab_type": "text"
      },
      "cell_type": "markdown",
      "source": [
        "The reconstructions from both methods are not identical because Scikit-Learn's PCA class automatically takes care of reversing the mean centering, but if we subtract the mean, we get the same reconstruction:"
      ]
    },
    {
      "metadata": {
        "id": "ZveD8KhTIpXf",
        "colab_type": "code",
        "colab": {
          "base_uri": "https://localhost:8080/",
          "height": 34
        },
        "outputId": "7ed6a65d-4295-47d3-832e-b89c14185c0d"
      },
      "cell_type": "code",
      "source": [
        "np.allclose(X3D_inv_using_svd, X3D_inv - pca.mean_)"
      ],
      "execution_count": 53,
      "outputs": [
        {
          "output_type": "execute_result",
          "data": {
            "text/plain": [
              "True"
            ]
          },
          "metadata": {
            "tags": []
          },
          "execution_count": 53
        }
      ]
    },
    {
      "metadata": {
        "id": "XZG1K0MQI1lu",
        "colab_type": "text"
      },
      "cell_type": "markdown",
      "source": [
        "The PCA object gives access to the principal components that it computed:"
      ]
    },
    {
      "metadata": {
        "id": "rNywfaaJIyTj",
        "colab_type": "code",
        "colab": {
          "base_uri": "https://localhost:8080/",
          "height": 51
        },
        "outputId": "ecd801fe-68c4-456d-923b-9bbb12b98181"
      },
      "cell_type": "code",
      "source": [
        "pca.components_"
      ],
      "execution_count": 54,
      "outputs": [
        {
          "output_type": "execute_result",
          "data": {
            "text/plain": [
              "array([[-0.93636116, -0.29854881, -0.18465208],\n",
              "       [ 0.34027485, -0.90119108, -0.2684542 ]])"
            ]
          },
          "metadata": {
            "tags": []
          },
          "execution_count": 54
        }
      ]
    },
    {
      "metadata": {
        "id": "_ezK4BXaI8I4",
        "colab_type": "text"
      },
      "cell_type": "markdown",
      "source": [
        "Compare to the first two principal components computed using the SVD method:"
      ]
    },
    {
      "metadata": {
        "id": "m7oCS1bfI53n",
        "colab_type": "code",
        "colab": {
          "base_uri": "https://localhost:8080/",
          "height": 51
        },
        "outputId": "1af50f29-1315-4203-9071-26b9ed14f954"
      },
      "cell_type": "code",
      "source": [
        "Vt[:2]"
      ],
      "execution_count": 55,
      "outputs": [
        {
          "output_type": "execute_result",
          "data": {
            "text/plain": [
              "array([[ 0.93636116,  0.29854881,  0.18465208],\n",
              "       [-0.34027485,  0.90119108,  0.2684542 ]])"
            ]
          },
          "metadata": {
            "tags": []
          },
          "execution_count": 55
        }
      ]
    },
    {
      "metadata": {
        "id": "VRaOMbWeJuVJ",
        "colab_type": "text"
      },
      "cell_type": "markdown",
      "source": [
        "# Explained Variance Ratio"
      ]
    },
    {
      "metadata": {
        "id": "wvPT5tYXJyMZ",
        "colab_type": "code",
        "colab": {
          "base_uri": "https://localhost:8080/",
          "height": 34
        },
        "outputId": "e0409127-e8c8-499c-eb2a-27bb1451add9"
      },
      "cell_type": "code",
      "source": [
        "pca.explained_variance_ratio_"
      ],
      "execution_count": 56,
      "outputs": [
        {
          "output_type": "execute_result",
          "data": {
            "text/plain": [
              "array([0.84248607, 0.14631839])"
            ]
          },
          "metadata": {
            "tags": []
          },
          "execution_count": 56
        }
      ]
    },
    {
      "metadata": {
        "id": "dlqfNdsLJ3xA",
        "colab_type": "text"
      },
      "cell_type": "markdown",
      "source": [
        "The first dimension explains 84.2% of the variance, while the second explains 14.6%.\n",
        "\n",
        "By projecting down to 2D, we lost about 1.1% of the variance:"
      ]
    },
    {
      "metadata": {
        "id": "GPpBgpA_J0Ue",
        "colab_type": "code",
        "colab": {
          "base_uri": "https://localhost:8080/",
          "height": 34
        },
        "outputId": "6187a16e-2aab-4794-fba7-4400415f2a7e"
      },
      "cell_type": "code",
      "source": [
        "1 - pca.explained_variance_ratio_.sum()"
      ],
      "execution_count": 57,
      "outputs": [
        {
          "output_type": "execute_result",
          "data": {
            "text/plain": [
              "0.011195535570688975"
            ]
          },
          "metadata": {
            "tags": []
          },
          "execution_count": 57
        }
      ]
    },
    {
      "metadata": {
        "id": "E6PDJnBXKGJb",
        "colab_type": "text"
      },
      "cell_type": "markdown",
      "source": [
        "Here is how to compute the explained variance ratio using the SVD approach (recall that s is the diagonal of the matrix S):"
      ]
    },
    {
      "metadata": {
        "id": "jQ0N9AOfKAHQ",
        "colab_type": "code",
        "colab": {
          "base_uri": "https://localhost:8080/",
          "height": 34
        },
        "outputId": "701f861c-4af3-43f8-90b2-9efce29fc109"
      },
      "cell_type": "code",
      "source": [
        "np.square(s) / np.square(s).sum()"
      ],
      "execution_count": 58,
      "outputs": [
        {
          "output_type": "execute_result",
          "data": {
            "text/plain": [
              "array([0.84248607, 0.14631839, 0.01119554])"
            ]
          },
          "metadata": {
            "tags": []
          },
          "execution_count": 58
        }
      ]
    },
    {
      "metadata": {
        "id": "kprEzB4RKV_9",
        "colab_type": "text"
      },
      "cell_type": "markdown",
      "source": [
        "# Visualization"
      ]
    },
    {
      "metadata": {
        "id": "5T_ldj2iKPC0",
        "colab_type": "code",
        "colab": {}
      },
      "cell_type": "code",
      "source": [
        "from matplotlib.patches import FancyArrowPatch\n",
        "from mpl_toolkits.mplot3d import proj3d"
      ],
      "execution_count": 0,
      "outputs": []
    },
    {
      "metadata": {
        "id": "ItWojsDUKgzk",
        "colab_type": "code",
        "colab": {}
      },
      "cell_type": "code",
      "source": [
        "class Arrow3D(FancyArrowPatch):\n",
        "  def __init__(self, xs, ys, zs, *args, **kwargs):\n",
        "    FancyArrowPatch.__init__(self, (0,0), (0,0), *args, **kwargs)\n",
        "    self._verts3d = xs, ys, zs\n",
        "    \n",
        "  def draw(self, renderer):\n",
        "    xs3d, ys3d, zs3d = self._verts3d\n",
        "    xs, ys, zs = proj3d.proj_transform(xs3d, ys3d, zs3d, renderer.M)\n",
        "    self.set_positions((xs[0], ys[0]),(xs[1], ys[1]))\n",
        "    FancyArrowPatch.draw(self, renderer)"
      ],
      "execution_count": 0,
      "outputs": []
    },
    {
      "metadata": {
        "id": "ja994uwxMWJe",
        "colab_type": "text"
      },
      "cell_type": "markdown",
      "source": [
        "Express the plane as a function of x and y"
      ]
    },
    {
      "metadata": {
        "id": "vd0x5f0zMPlX",
        "colab_type": "code",
        "colab": {}
      },
      "cell_type": "code",
      "source": [
        "axes = [-1.8, 1.8, -1.3, 1.3, -1.0, 1.0]\n",
        "\n",
        "x1s = np.linspace(axes[0], axes[1], 10)\n",
        "x2s = np.linspace(axes[2], axes[3], 10)\n",
        "x1, x2 = np.meshgrid(x1s, x2s)\n",
        "\n",
        "C = pca.components_\n",
        "R = C.T.dot(C)\n",
        "z = (R[0, 2] * x1 + R[1, 2] * x2) / (1 - R[2, 2])"
      ],
      "execution_count": 0,
      "outputs": []
    },
    {
      "metadata": {
        "id": "4nFkxknhM3fT",
        "colab_type": "text"
      },
      "cell_type": "markdown",
      "source": [
        "Plot the 3D dataset, the plane and the projections on that plane."
      ]
    },
    {
      "metadata": {
        "id": "w8uVRzrAM1Si",
        "colab_type": "code",
        "colab": {
          "base_uri": "https://localhost:8080/",
          "height": 237
        },
        "outputId": "0d837995-e8f0-4415-d57c-9cff28757c7a"
      },
      "cell_type": "code",
      "source": [
        "\n",
        "from mpl_toolkits.mplot3d import Axes3D\n",
        "\n",
        "fig = plt.figure(figsize=(6, 3.8))\n",
        "ax = fig.add_subplot(111, projection='3d')\n",
        "\n",
        "X3D_above = X[X[:, 2] > X3D_inv[:, 2]]\n",
        "X3D_below = X[X[:, 2] <= X3D_inv[:, 2]]\n",
        "\n",
        "ax.plot(X3D_below[:, 0], X3D_below[:, 1], X3D_below[:, 2], \"bo\", alpha=0.5)\n",
        "\n",
        "ax.plot_surface(x1, x2, z, alpha=0.2, color=\"k\")\n",
        "np.linalg.norm(C, axis=0)\n",
        "ax.add_artist(Arrow3D([0, C[0, 0]],[0, C[0, 1]],[0, C[0, 2]], mutation_scale=15, lw=1, arrowstyle=\"-|>\", color=\"k\"))\n",
        "ax.add_artist(Arrow3D([0, C[1, 0]],[0, C[1, 1]],[0, C[1, 2]], mutation_scale=15, lw=1, arrowstyle=\"-|>\", color=\"k\"))\n",
        "ax.plot([0], [0], [0], \"k.\")\n",
        "\n",
        "for i in range(m):\n",
        "    if X[i, 2] > X3D_inv[i, 2]:\n",
        "        ax.plot([X[i][0], X3D_inv[i][0]], [X[i][1], X3D_inv[i][1]], [X[i][2], X3D_inv[i][2]], \"k-\")\n",
        "    else:\n",
        "        ax.plot([X[i][0], X3D_inv[i][0]], [X[i][1], X3D_inv[i][1]], [X[i][2], X3D_inv[i][2]], \"k-\", color=\"#505050\")\n",
        "    \n",
        "ax.plot(X3D_inv[:, 0], X3D_inv[:, 1], X3D_inv[:, 2], \"k+\")\n",
        "ax.plot(X3D_inv[:, 0], X3D_inv[:, 1], X3D_inv[:, 2], \"k.\")\n",
        "ax.plot(X3D_above[:, 0], X3D_above[:, 1], X3D_above[:, 2], \"bo\")\n",
        "ax.set_xlabel(\"$x_1$\", fontsize=18)\n",
        "ax.set_ylabel(\"$x_2$\", fontsize=18)\n",
        "ax.set_zlabel(\"$x_3$\", fontsize=18)\n",
        "ax.set_xlim(axes[0:2])\n",
        "ax.set_ylim(axes[2:4])\n",
        "ax.set_zlim(axes[4:6])\n",
        "\n",
        "plt.show()"
      ],
      "execution_count": 62,
      "outputs": [
        {
          "output_type": "display_data",
          "data": {
            "image/png": "[encoded data removed]",
            "text/plain": [
              "<matplotlib.figure.Figure at 0x7f03df78acc0>"
            ]
          },
          "metadata": {
            "tags": []
          }
        }
      ]
    },
    {
      "metadata": {
        "id": "J_U0vdyQIaGu",
        "colab_type": "text"
      },
      "cell_type": "markdown",
      "source": [
        "# Manifold Learning"
      ]
    },
    {
      "metadata": {
        "id": "6mK7y7SDIeA_",
        "colab_type": "code",
        "colab": {}
      },
      "cell_type": "code",
      "source": [
        "from sklearn.datasets import make_swiss_roll\n",
        "X, t = make_swiss_roll(n_samples =1000, noise=0.2, random_state=42)"
      ],
      "execution_count": 0,
      "outputs": []
    },
    {
      "metadata": {
        "id": "ZeaTlvh2IsgM",
        "colab_type": "code",
        "colab": {
          "base_uri": "https://localhost:8080/",
          "height": 303
        },
        "outputId": "dd04273c-5571-49ad-c2d0-f3379d334a92"
      },
      "cell_type": "code",
      "source": [
        "axes = [-11, 14, -2, 23, -12, 15]\n",
        "\n",
        "fig = plt.figure(figsize=(6,5))\n",
        "ax = fig.add_subplot(111, projection='3d')\n",
        "\n",
        "ax.scatter(X[:, 0], X[:, 1], X[:, 2], c=t, cmap= plt.cm.hot)\n",
        "ax.view_init(10, -70)\n",
        "ax.set_xlabel(\"$x_1$\", fontsize=18)\n",
        "ax.set_ylabel(\"$x_2$\", fontsize=18)\n",
        "ax.set_zlabel(\"$x_3$\", fontsize=18)\n",
        "ax.set_xlim(axes[0:2])\n",
        "ax.set_ylim(axes[2:4])\n",
        "ax.set_zlim(axes[4:6])\n",
        "\n",
        "plt.show()"
      ],
      "execution_count": 66,
      "outputs": [
        {
          "output_type": "display_data",
          "data": {
            "image/png": "[encoded data removed]",
            "text/plain": [
              "<matplotlib.figure.Figure at 0x7f03de9ffbe0>"
            ]
          },
          "metadata": {
            "tags": []
          }
        }
      ]
    },
    {
      "metadata": {
        "id": "znMIxCtjJZ3q",
        "colab_type": "code",
        "colab": {}
      },
      "cell_type": "code",
      "source": [
        ""
      ],
      "execution_count": 0,
      "outputs": []
    }
  ]
}