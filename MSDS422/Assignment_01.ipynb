{
 "cells": [
  {
   "cell_type": "code",
   "execution_count": 4,
   "metadata": {},
   "outputs": [],
   "source": [
    "import os\n",
    "%matplotlib inline\n",
    "import pandas as pd\n",
    "import numpy as np\n",
    "import matplotlib.pyplot as plt\n",
    "\n",
    "SURVEY_PATH = os.path.join(\"datasets\", \"mspa-survey-data.csv\")\n",
    "\n",
    "def load_survey_data( survey_path = SURVEY_PATH):\n",
    "    return pd.read_csv(survey_path)"
   ]
  },
  {
   "cell_type": "code",
   "execution_count": 5,
   "metadata": {},
   "outputs": [],
   "source": [
    "survey_data = load_survey_data()"
   ]
  },
  {
   "cell_type": "code",
   "execution_count": 7,
   "metadata": {},
   "outputs": [
    {
     "name": "stdout",
     "output_type": "stream",
     "text": [
      "<class 'pandas.core.frame.DataFrame'>\n",
      "RangeIndex: 207 entries, 0 to 206\n",
      "Data columns (total 41 columns):\n",
      "RespondentID                        207 non-null int64\n",
      "Personal_JavaScalaSpark             207 non-null int64\n",
      "Personal_JavaScriptHTMLCSS          207 non-null int64\n",
      "Personal_Python                     207 non-null int64\n",
      "Personal_R                          207 non-null int64\n",
      "Personal_SAS                        207 non-null int64\n",
      "Professional_JavaScalaSpark         207 non-null int64\n",
      "Professional_JavaScriptHTMLCSS      207 non-null int64\n",
      "Professional_Python                 207 non-null int64\n",
      "Professional_R                      207 non-null int64\n",
      "Professional_SAS                    207 non-null int64\n",
      "Industry_JavaScalaSpark             207 non-null int64\n",
      "Industry_JavaScriptHTMLCSS          207 non-null int64\n",
      "Industry_Python                     207 non-null int64\n",
      "Industry_R                          207 non-null int64\n",
      "Industry_SAS                        207 non-null int64\n",
      "Python_Course_Interest              206 non-null float64\n",
      "Foundations_DE_Course_Interest      200 non-null float64\n",
      "Analytics_App_Course_Interest       203 non-null float64\n",
      "Systems_Analysis_Course_Interest    200 non-null float64\n",
      "Courses_Completed                   187 non-null float64\n",
      "PREDICT400                          163 non-null object\n",
      "PREDICT401                          171 non-null object\n",
      "PREDICT410                          145 non-null object\n",
      "PREDICT411                          113 non-null object\n",
      "PREDICT413                          59 non-null object\n",
      "PREDICT420                          127 non-null object\n",
      "PREDICT422                          48 non-null object\n",
      "PREDICT450                          17 non-null object\n",
      "PREDICT451                          7 non-null object\n",
      "PREDICT452                          13 non-null object\n",
      "PREDICT453                          11 non-null object\n",
      "PREDICT454                          5 non-null object\n",
      "PREDICT455                          30 non-null object\n",
      "PREDICT456                          6 non-null object\n",
      "PREDICT457                          4 non-null object\n",
      "OtherPython                         5 non-null object\n",
      "OtherR                              14 non-null object\n",
      "OtherSAS                            2 non-null object\n",
      "Other                               26 non-null object\n",
      "Graduate_Date                       204 non-null object\n",
      "dtypes: float64(5), int64(16), object(20)\n",
      "memory usage: 66.4+ KB\n"
     ]
    }
   ],
   "source": [
    "survey_data.info()"
   ]
  },
  {
   "cell_type": "code",
   "execution_count": null,
   "metadata": {},
   "outputs": [],
   "source": []
  }
 ],
 "metadata": {
  "kernelspec": {
   "display_name": "Python 3",
   "language": "python",
   "name": "python3"
  },
  "language_info": {
   "codemirror_mode": {
    "name": "ipython",
    "version": 3
   },
   "file_extension": ".py",
   "mimetype": "text/x-python",
   "name": "python",
   "nbconvert_exporter": "python",
   "pygments_lexer": "ipython3",
   "version": "3.6.5"
  }
 },
 "nbformat": 4,
 "nbformat_minor": 2
}
